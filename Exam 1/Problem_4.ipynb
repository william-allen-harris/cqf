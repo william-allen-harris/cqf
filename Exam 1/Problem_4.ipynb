{
 "cells": [
  {
   "cell_type": "code",
   "execution_count": 1,
   "metadata": {},
   "outputs": [],
   "source": [
    "from scipy.stats import norm"
   ]
  },
  {
   "cell_type": "code",
   "execution_count": 2,
   "metadata": {},
   "outputs": [],
   "source": [
    "def l_var(portfolio_value, mu, sigma, mu_spread, sigma_spread, conf_int):\n",
    "    var = -1*mu + norm.ppf(1-conf_int) * sigma \n",
    "    delta_l = 0.5*(mu_spread + norm.ppf(1-conf_int) *sigma_spread)\n",
    "    return portfolio_value * (var + delta_l), portfolio_value *var, portfolio_value * delta_l"
   ]
  },
  {
   "cell_type": "code",
   "execution_count": 3,
   "metadata": {},
   "outputs": [
    {
     "data": {
      "text/plain": [
       "(1263808.7244245044, 956646.9795396035, 307161.74488490087)"
      ]
     },
     "execution_count": 3,
     "metadata": {},
     "output_type": "execute_result"
    }
   ],
   "source": [
    "l_var(16000000, 0.01, 0.03, 0.0035, 0.015, 0.01)"
   ]
  },
  {
   "cell_type": "code",
   "execution_count": 4,
   "metadata": {},
   "outputs": [
    {
     "data": {
      "text/plain": [
       "(2821617.448849009, 2791617.4488490084, 30000.0)"
      ]
     },
     "execution_count": 4,
     "metadata": {},
     "output_type": "execute_result"
    }
   ],
   "source": [
    "l_var(40000000, 0, 0.03, 0.0015, 0, 0.01)"
   ]
  },
  {
   "cell_type": "code",
   "execution_count": 5,
   "metadata": {},
   "outputs": [
    {
     "data": {
      "text/plain": [
       "(3041617.448849009, 2791617.4488490084, 250000.0)"
      ]
     },
     "execution_count": 5,
     "metadata": {},
     "output_type": "execute_result"
    }
   ],
   "source": [
    "l_var(40000000, 0, 0.03, 0.0125, 0, 0.01)"
   ]
  },
  {
   "cell_type": "code",
   "execution_count": null,
   "metadata": {},
   "outputs": [],
   "source": []
  }
 ],
 "metadata": {
  "interpreter": {
   "hash": "b5ed7aac63ba26b6cc13f3466962b87b151feb8ba9e841efa9abe3bad9164d9f"
  },
  "kernelspec": {
   "display_name": "Python 3.8.8 ('pythonProject')",
   "language": "python",
   "name": "python3"
  },
  "language_info": {
   "codemirror_mode": {
    "name": "ipython",
    "version": 3
   },
   "file_extension": ".py",
   "mimetype": "text/x-python",
   "name": "python",
   "nbconvert_exporter": "python",
   "pygments_lexer": "ipython3",
   "version": "3.8.5"
  },
  "orig_nbformat": 4
 },
 "nbformat": 4,
 "nbformat_minor": 2
}
