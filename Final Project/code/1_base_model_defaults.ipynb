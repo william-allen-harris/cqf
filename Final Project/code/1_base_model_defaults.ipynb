{
 "cells": [
  {
   "cell_type": "code",
   "execution_count": 1,
   "metadata": {},
   "outputs": [
    {
     "name": "stderr",
     "output_type": "stream",
     "text": [
      "/home/williamharris/anaconda3/envs/tf/lib/python3.9/site-packages/tqdm/auto.py:22: TqdmWarning: IProgress not found. Please update jupyter and ipywidgets. See https://ipywidgets.readthedocs.io/en/stable/user_install.html\n",
      "  from .autonotebook import tqdm as notebook_tqdm\n"
     ]
    }
   ],
   "source": [
    "import numpy as np\n",
    "import tensorflow as tf\n",
    "from sklearn.utils import class_weight\n",
    "import datetime\n",
    "\n",
    "from controllers.utils import set_seeds\n",
    "from controllers.base_model import BaseModelFromScratch\n",
    "from controllers.base_data import DatasetEnum\n",
    "from controllers.features import get_scaler\n",
    "from controllers.data import Data\n",
    "\n",
    "set_seeds(0)"
   ]
  },
  {
   "cell_type": "code",
   "execution_count": 2,
   "metadata": {},
   "outputs": [
    {
     "name": "stdout",
     "output_type": "stream",
     "text": [
      "--------------------- X_train ---------------------\n",
      "Features: ['ATR_3', 'ATR_7', 'ATR_14', 'ATR_32', 'BB_UPPER_5', 'BB_LOWER_5', 'BB_MIDDLE_5', 'BB_UPPER_10', 'BB_LOWER_10', 'BB_MIDDLE_10', 'BB_UPPER_20', 'BB_LOWER_20', 'BB_MIDDLE_20', 'BLOCK_SIZE', 'HASH_RATE', 'DIFFICULTY', 'TRANSACTION_RATE', 'ACTIVE_ADDRESSES', 'NEW_ADDRESSES', 'ROC_3', 'ROC_6', 'ROC_12', 'ROC_24', 'RSI_3', 'RSI_7', 'RSI_14', 'RSI_32', 'WILLIAMS_3', 'WILLIAMS_7', 'WILLIAMS_14', 'WILLIAMS_32', 'MI_3', 'MI_9', 'MI_18', 'CCI_5', 'CCI_10', 'CCI_20', 'BASP_BUY_10', 'BASP_SELL_10', 'BASP_BUY_20', 'BASP_SELL_20', 'BASP_BUY_40', 'BASP_SELL_40', 'ER_5', 'ER_10', 'ER_15', 'ER_20', 'MACD_LOW', 'MACD_SIGNAL_LOW', 'MACD_MID', 'MACD_SIGNAL_MID', 'MACD_HIGH', 'MACD_SIGNAL_HIGH', 'ADX_3', 'ADX_7', 'ADX_14', 'ADX_21', 'STOCH_3', 'STOCH_7', 'STOCH_14', 'STOCH_21', 'STOCHRSI_3', 'STOCHRSI_7', 'STOCHRSI_14', 'STOCHRSI_21', 'BBWIDTH_5', 'BBWIDTH_10', 'BBWIDTH_20', 'PERCENT_B_5', 'PERCENT_B_10', 'PERCENT_B_20', 'TARGET']\n",
      "start date: 2013-04-02 07:00:00, end date: 2018-10-31 20:00:00\n",
      "TARGET Percentages: {0: 0.4800615700359159, 1: 0.5199384299640841}\n",
      "--------------------- X_validation ---------------------\n",
      "Features: ['ATR_3', 'ATR_7', 'ATR_14', 'ATR_32', 'BB_UPPER_5', 'BB_LOWER_5', 'BB_MIDDLE_5', 'BB_UPPER_10', 'BB_LOWER_10', 'BB_MIDDLE_10', 'BB_UPPER_20', 'BB_LOWER_20', 'BB_MIDDLE_20', 'BLOCK_SIZE', 'HASH_RATE', 'DIFFICULTY', 'TRANSACTION_RATE', 'ACTIVE_ADDRESSES', 'NEW_ADDRESSES', 'ROC_3', 'ROC_6', 'ROC_12', 'ROC_24', 'RSI_3', 'RSI_7', 'RSI_14', 'RSI_32', 'WILLIAMS_3', 'WILLIAMS_7', 'WILLIAMS_14', 'WILLIAMS_32', 'MI_3', 'MI_9', 'MI_18', 'CCI_5', 'CCI_10', 'CCI_20', 'BASP_BUY_10', 'BASP_SELL_10', 'BASP_BUY_20', 'BASP_SELL_20', 'BASP_BUY_40', 'BASP_SELL_40', 'ER_5', 'ER_10', 'ER_15', 'ER_20', 'MACD_LOW', 'MACD_SIGNAL_LOW', 'MACD_MID', 'MACD_SIGNAL_MID', 'MACD_HIGH', 'MACD_SIGNAL_HIGH', 'ADX_3', 'ADX_7', 'ADX_14', 'ADX_21', 'STOCH_3', 'STOCH_7', 'STOCH_14', 'STOCH_21', 'STOCHRSI_3', 'STOCHRSI_7', 'STOCHRSI_14', 'STOCHRSI_21', 'BBWIDTH_5', 'BBWIDTH_10', 'BBWIDTH_20', 'PERCENT_B_5', 'PERCENT_B_10', 'PERCENT_B_20', 'TARGET']\n",
      "start date: 2018-11-02 05:00:00, end date: 2020-09-10 19:00:00\n",
      "TARGET Percentages: {0: 0.48952509676230266, 1: 0.5104749032376974}\n",
      "--------------------- X_test ---------------------\n",
      "Features: ['ATR_3', 'ATR_7', 'ATR_14', 'ATR_32', 'BB_UPPER_5', 'BB_LOWER_5', 'BB_MIDDLE_5', 'BB_UPPER_10', 'BB_LOWER_10', 'BB_MIDDLE_10', 'BB_UPPER_20', 'BB_LOWER_20', 'BB_MIDDLE_20', 'BLOCK_SIZE', 'HASH_RATE', 'DIFFICULTY', 'TRANSACTION_RATE', 'ACTIVE_ADDRESSES', 'NEW_ADDRESSES', 'ROC_3', 'ROC_6', 'ROC_12', 'ROC_24', 'RSI_3', 'RSI_7', 'RSI_14', 'RSI_32', 'WILLIAMS_3', 'WILLIAMS_7', 'WILLIAMS_14', 'WILLIAMS_32', 'MI_3', 'MI_9', 'MI_18', 'CCI_5', 'CCI_10', 'CCI_20', 'BASP_BUY_10', 'BASP_SELL_10', 'BASP_BUY_20', 'BASP_SELL_20', 'BASP_BUY_40', 'BASP_SELL_40', 'ER_5', 'ER_10', 'ER_15', 'ER_20', 'MACD_LOW', 'MACD_SIGNAL_LOW', 'MACD_MID', 'MACD_SIGNAL_MID', 'MACD_HIGH', 'MACD_SIGNAL_HIGH', 'ADX_3', 'ADX_7', 'ADX_14', 'ADX_21', 'STOCH_3', 'STOCH_7', 'STOCH_14', 'STOCH_21', 'STOCHRSI_3', 'STOCHRSI_7', 'STOCHRSI_14', 'STOCHRSI_21', 'BBWIDTH_5', 'BBWIDTH_10', 'BBWIDTH_20', 'PERCENT_B_5', 'PERCENT_B_10', 'PERCENT_B_20', 'TARGET']\n",
      "start date: 2020-09-12 04:00:00, end date: 2022-07-22 19:00:00\n",
      "TARGET Percentages: {0: 0.4922585401818629, 1: 0.5077414598181371}\n"
     ]
    }
   ],
   "source": [
    "btc_dataset = Data(lookback=10, train_size=0.6, validation_size=0.2, test_size=0.2, scaler=get_scaler(), feature_set='BTC_Data', time_to_predict=1, features=None)"
   ]
  },
  {
   "cell_type": "markdown",
   "metadata": {},
   "source": [
    "# BTC"
   ]
  },
  {
   "cell_type": "code",
   "execution_count": 3,
   "metadata": {},
   "outputs": [
    {
     "name": "stderr",
     "output_type": "stream",
     "text": [
      "2022-08-21 16:42:36.134220: I tensorflow/stream_executor/cuda/cuda_gpu_executor.cc:975] successful NUMA node read from SysFS had negative value (-1), but there must be at least one NUMA node, so returning NUMA node zero\n",
      "2022-08-21 16:42:36.140169: I tensorflow/stream_executor/cuda/cuda_gpu_executor.cc:975] successful NUMA node read from SysFS had negative value (-1), but there must be at least one NUMA node, so returning NUMA node zero\n",
      "2022-08-21 16:42:36.140745: I tensorflow/stream_executor/cuda/cuda_gpu_executor.cc:975] successful NUMA node read from SysFS had negative value (-1), but there must be at least one NUMA node, so returning NUMA node zero\n",
      "2022-08-21 16:42:36.141983: I tensorflow/stream_executor/cuda/cuda_gpu_executor.cc:975] successful NUMA node read from SysFS had negative value (-1), but there must be at least one NUMA node, so returning NUMA node zero\n",
      "2022-08-21 16:42:36.142481: I tensorflow/stream_executor/cuda/cuda_gpu_executor.cc:975] successful NUMA node read from SysFS had negative value (-1), but there must be at least one NUMA node, so returning NUMA node zero\n",
      "2022-08-21 16:42:36.142942: I tensorflow/stream_executor/cuda/cuda_gpu_executor.cc:975] successful NUMA node read from SysFS had negative value (-1), but there must be at least one NUMA node, so returning NUMA node zero\n",
      "2022-08-21 16:42:36.679504: I tensorflow/stream_executor/cuda/cuda_gpu_executor.cc:975] successful NUMA node read from SysFS had negative value (-1), but there must be at least one NUMA node, so returning NUMA node zero\n",
      "2022-08-21 16:42:36.680072: I tensorflow/stream_executor/cuda/cuda_gpu_executor.cc:975] successful NUMA node read from SysFS had negative value (-1), but there must be at least one NUMA node, so returning NUMA node zero\n",
      "2022-08-21 16:42:36.680617: I tensorflow/stream_executor/cuda/cuda_gpu_executor.cc:975] successful NUMA node read from SysFS had negative value (-1), but there must be at least one NUMA node, so returning NUMA node zero\n",
      "2022-08-21 16:42:36.681027: I tensorflow/core/common_runtime/gpu/gpu_device.cc:1532] Created device /job:localhost/replica:0/task:0/device:GPU:0 with 6131 MB memory:  -> device: 0, name: NVIDIA GeForce RTX 2070 SUPER, pci bus id: 0000:01:00.0, compute capability: 7.5\n"
     ]
    },
    {
     "name": "stdout",
     "output_type": "stream",
     "text": [
      "Epoch 1/20\n"
     ]
    },
    {
     "name": "stderr",
     "output_type": "stream",
     "text": [
      "2022-08-21 16:42:46.173980: I tensorflow/stream_executor/cuda/cuda_dnn.cc:384] Loaded cuDNN version 8100\n"
     ]
    },
    {
     "name": "stdout",
     "output_type": "stream",
     "text": [
      "93/93 [==============================] - 14s 45ms/step - loss: 0.6930 - auc: 0.5101 - binary_accuracy: 0.5096 - val_loss: 0.6941 - val_auc: 0.5055 - val_binary_accuracy: 0.4895\n",
      "Epoch 2/20\n",
      "93/93 [==============================] - 2s 25ms/step - loss: 0.6930 - auc: 0.5090 - binary_accuracy: 0.5049 - val_loss: 0.6936 - val_auc: 0.5016 - val_binary_accuracy: 0.4946\n",
      "Epoch 3/20\n",
      "93/93 [==============================] - 2s 23ms/step - loss: 0.6929 - auc: 0.5117 - binary_accuracy: 0.5079 - val_loss: 0.6937 - val_auc: 0.5030 - val_binary_accuracy: 0.4943\n",
      "Epoch 4/20\n",
      "93/93 [==============================] - 2s 22ms/step - loss: 0.6927 - auc: 0.5160 - binary_accuracy: 0.5068 - val_loss: 0.6945 - val_auc: 0.5075 - val_binary_accuracy: 0.4900\n",
      "Epoch 5/20\n",
      "93/93 [==============================] - 2s 22ms/step - loss: 0.6927 - auc: 0.5151 - binary_accuracy: 0.5084 - val_loss: 0.6937 - val_auc: 0.5038 - val_binary_accuracy: 0.4941\n",
      "Epoch 6/20\n",
      "93/93 [==============================] - 2s 22ms/step - loss: 0.6926 - auc: 0.5182 - binary_accuracy: 0.5088 - val_loss: 0.6939 - val_auc: 0.5056 - val_binary_accuracy: 0.4976\n",
      "Epoch 7/20\n",
      "93/93 [==============================] - 2s 22ms/step - loss: 0.6928 - auc: 0.5145 - binary_accuracy: 0.5085 - val_loss: 0.6935 - val_auc: 0.5037 - val_binary_accuracy: 0.4980\n",
      "Epoch 8/20\n",
      "93/93 [==============================] - 2s 23ms/step - loss: 0.6926 - auc: 0.5191 - binary_accuracy: 0.5115 - val_loss: 0.6937 - val_auc: 0.5030 - val_binary_accuracy: 0.4984\n",
      "Epoch 9/20\n",
      "93/93 [==============================] - 2s 23ms/step - loss: 0.6926 - auc: 0.5186 - binary_accuracy: 0.5077 - val_loss: 0.6939 - val_auc: 0.5050 - val_binary_accuracy: 0.4986\n",
      "Epoch 10/20\n",
      "93/93 [==============================] - 2s 22ms/step - loss: 0.6924 - auc: 0.5211 - binary_accuracy: 0.5132 - val_loss: 0.6943 - val_auc: 0.5052 - val_binary_accuracy: 0.4967\n",
      "Epoch 11/20\n",
      "93/93 [==============================] - 2s 22ms/step - loss: 0.6926 - auc: 0.5200 - binary_accuracy: 0.5136 - val_loss: 0.6940 - val_auc: 0.5063 - val_binary_accuracy: 0.4955\n",
      "Epoch 12/20\n",
      "93/93 [==============================] - 2s 22ms/step - loss: 0.6925 - auc: 0.5194 - binary_accuracy: 0.5111 - val_loss: 0.6934 - val_auc: 0.5033 - val_binary_accuracy: 0.4998\n",
      "Epoch 13/20\n",
      "93/93 [==============================] - 2s 23ms/step - loss: 0.6925 - auc: 0.5214 - binary_accuracy: 0.5139 - val_loss: 0.6936 - val_auc: 0.5069 - val_binary_accuracy: 0.4991\n",
      "Epoch 14/20\n",
      "93/93 [==============================] - 2s 22ms/step - loss: 0.6924 - auc: 0.5214 - binary_accuracy: 0.5148 - val_loss: 0.6936 - val_auc: 0.5067 - val_binary_accuracy: 0.5001\n",
      "Epoch 15/20\n",
      "93/93 [==============================] - 2s 22ms/step - loss: 0.6926 - auc: 0.5197 - binary_accuracy: 0.5128 - val_loss: 0.6933 - val_auc: 0.5075 - val_binary_accuracy: 0.5022\n",
      "Epoch 16/20\n",
      "93/93 [==============================] - 2s 22ms/step - loss: 0.6924 - auc: 0.5224 - binary_accuracy: 0.5154 - val_loss: 0.6937 - val_auc: 0.5059 - val_binary_accuracy: 0.4989\n",
      "Epoch 17/20\n",
      "93/93 [==============================] - 2s 22ms/step - loss: 0.6924 - auc: 0.5234 - binary_accuracy: 0.5154 - val_loss: 0.6933 - val_auc: 0.5107 - val_binary_accuracy: 0.5021\n",
      "Epoch 18/20\n",
      "93/93 [==============================] - 2s 22ms/step - loss: 0.6923 - auc: 0.5235 - binary_accuracy: 0.5142 - val_loss: 0.6935 - val_auc: 0.5119 - val_binary_accuracy: 0.5038\n",
      "Epoch 19/20\n",
      "93/93 [==============================] - 2s 23ms/step - loss: 0.6923 - auc: 0.5233 - binary_accuracy: 0.5152 - val_loss: 0.6934 - val_auc: 0.5121 - val_binary_accuracy: 0.5008\n",
      "Epoch 20/20\n",
      "93/93 [==============================] - 2s 22ms/step - loss: 0.6923 - auc: 0.5234 - binary_accuracy: 0.5157 - val_loss: 0.6939 - val_auc: 0.5107 - val_binary_accuracy: 0.4984\n",
      "509/509 [==============================] - 4s 6ms/step\n"
     ]
    },
    {
     "data": {
      "text/plain": [
       "{'log_val': 0.6946577803985028,\n",
       " 'accuracy_val': 0.5002457606291472,\n",
       " 'f_1': 0.22900473933649285,\n",
       " 'recall': 0.14617618586640851,\n",
       " 'precision': 0.5284339457567804,\n",
       " 'auc': 0.5058140040665043}"
      ]
     },
     "execution_count": 3,
     "metadata": {},
     "output_type": "execute_result"
    },
    {
     "data": {
      "image/png": "[encoded data removed]",
      "text/plain": [
       "<Figure size 432x288 with 2 Axes>"
      ]
     },
     "metadata": {
      "needs_background": "light"
     },
     "output_type": "display_data"
    }
   ],
   "source": [
    "class Model(BaseModelFromScratch):\n",
    "    def create_model(self):\n",
    "        self.model = tf.keras.models.Sequential()\n",
    "        self.model.add(\n",
    "            tf.keras.layers.LSTM(\n",
    "                380,\n",
    "                dropout=0.3, \n",
    "                return_sequences=True,\n",
    "                input_shape=(self.dataset.X_train.shape[1:]),\n",
    "            )\n",
    "        )\n",
    "        self.model.add(tf.keras.layers.LSTM(32, dropout=0.3, return_sequences=True))\n",
    "        self.model.add(tf.keras.layers.LSTM(32, dropout=0.3, return_sequences=True))\n",
    "        self.model.add(tf.keras.layers.LSTM(380, dropout=0.3))\n",
    "        self.model.add(tf.keras.layers.Dense(32, activation=\"relu\"))\n",
    "        self.model.add(tf.keras.layers.Dropout(0.3))\n",
    "        self.model.add(tf.keras.layers.Dense(1, activation=\"sigmoid\"))\n",
    "\n",
    "    def train_model(self):\n",
    "        opt = tf.keras.optimizers.Nadam(learning_rate=0.0001)\n",
    "        time = datetime.datetime.now().strftime(\"%Y%m%d-%H%M%S\")\n",
    "        tensorboard = tf.keras.callbacks.TensorBoard(f\"{self.directory}/{self.project_name}/tb_logs/{time}\")\n",
    "        early_stop = tf.keras.callbacks.EarlyStopping(monitor=\"val_loss\", patience=25, restore_best_weights=True)\n",
    "        self.model.compile(\n",
    "            loss=\"binary_crossentropy\",\n",
    "            optimizer=opt,\n",
    "            metrics=[tf.keras.metrics.AUC(), tf.keras.metrics.BinaryAccuracy()],\n",
    "        )\n",
    "        class_weights = class_weight.compute_class_weight(class_weight='balanced', classes=np.unique(self.dataset.y_train.tolist()), y=[i for x in self.dataset.y_train for i in x])\n",
    "        class_weights = dict(enumerate(class_weights))\n",
    "\n",
    "        self.model.fit(\n",
    "            self.dataset.X_train,\n",
    "            self.dataset.y_train,\n",
    "            validation_data=(self.dataset.X_validation, self.dataset.y_validation),\n",
    "            epochs=20,\n",
    "            batch_size=526,\n",
    "            class_weight=class_weights,\n",
    "            callbacks=[tensorboard],\n",
    "            shuffle=False,\n",
    "        )\n",
    "\n",
    "\n",
    "m = Model(model_name=\"btc_all_features\", directory='models', project_name='testing', dataset=btc_dataset)\n",
    "m.train()\n",
    "m.run_statistics(DatasetEnum.Test)"
   ]
  },
  {
   "cell_type": "code",
   "execution_count": 4,
   "metadata": {},
   "outputs": [
    {
     "name": "stdout",
     "output_type": "stream",
     "text": [
      "Model: \"sequential\"\n",
      "_________________________________________________________________\n",
      " Layer (type)                Output Shape              Param #   \n",
      "=================================================================\n",
      " lstm (LSTM)                 (None, 10, 380)           687040    \n",
      "                                                                 \n",
      " lstm_1 (LSTM)               (None, 10, 32)            52864     \n",
      "                                                                 \n",
      " lstm_2 (LSTM)               (None, 10, 32)            8320      \n",
      "                                                                 \n",
      " lstm_3 (LSTM)               (None, 380)               627760    \n",
      "                                                                 \n",
      " dense (Dense)               (None, 32)                12192     \n",
      "                                                                 \n",
      " dropout (Dropout)           (None, 32)                0         \n",
      "                                                                 \n",
      " dense_1 (Dense)             (None, 1)                 33        \n",
      "                                                                 \n",
      "=================================================================\n",
      "Total params: 1,388,209\n",
      "Trainable params: 1,388,209\n",
      "Non-trainable params: 0\n",
      "_________________________________________________________________\n"
     ]
    }
   ],
   "source": [
    "m.model.summary()"
   ]
  },
  {
   "cell_type": "code",
   "execution_count": 5,
   "metadata": {},
   "outputs": [
    {
     "name": "stderr",
     "output_type": "stream",
     "text": [
      "WARNING:absl:Found untraced functions such as lstm_cell_layer_call_fn, lstm_cell_layer_call_and_return_conditional_losses, lstm_cell_1_layer_call_fn, lstm_cell_1_layer_call_and_return_conditional_losses, lstm_cell_2_layer_call_fn while saving (showing 5 of 8). These functions will not be directly callable after loading.\n"
     ]
    },
    {
     "name": "stdout",
     "output_type": "stream",
     "text": [
      "INFO:tensorflow:Assets written to: ram://f8d947a2-2d85-482d-8357-1ec0e13e5ef8/assets\n"
     ]
    },
    {
     "name": "stderr",
     "output_type": "stream",
     "text": [
      "INFO:tensorflow:Assets written to: ram://f8d947a2-2d85-482d-8357-1ec0e13e5ef8/assets\n"
     ]
    }
   ],
   "source": [
    "m.save_model()"
   ]
  },
  {
   "cell_type": "markdown",
   "metadata": {},
   "source": [
    "# ETH"
   ]
  },
  {
   "cell_type": "code",
   "execution_count": 6,
   "metadata": {},
   "outputs": [
    {
     "name": "stdout",
     "output_type": "stream",
     "text": [
      "--------------------- X_train ---------------------\n",
      "Features: ['ATR_3', 'ATR_7', 'ATR_14', 'ATR_32', 'BB_UPPER_5', 'BB_LOWER_5', 'BB_MIDDLE_5', 'BB_UPPER_10', 'BB_LOWER_10', 'BB_MIDDLE_10', 'BB_UPPER_20', 'BB_LOWER_20', 'BB_MIDDLE_20', 'BLOCK_SIZE', 'HASH_RATE', 'DIFFICULTY', 'TRANSACTION_RATE', 'ACTIVE_ADDRESSES', 'NEW_ADDRESSES', 'ROC_3', 'ROC_6', 'ROC_12', 'ROC_24', 'RSI_3', 'RSI_7', 'RSI_14', 'RSI_32', 'WILLIAMS_3', 'WILLIAMS_7', 'WILLIAMS_14', 'WILLIAMS_32', 'MI_3', 'MI_9', 'MI_18', 'CCI_5', 'CCI_10', 'CCI_20', 'BASP_BUY_10', 'BASP_SELL_10', 'BASP_BUY_20', 'BASP_SELL_20', 'BASP_BUY_40', 'BASP_SELL_40', 'ER_5', 'ER_10', 'ER_15', 'ER_20', 'MACD_LOW', 'MACD_SIGNAL_LOW', 'MACD_MID', 'MACD_SIGNAL_MID', 'MACD_HIGH', 'MACD_SIGNAL_HIGH', 'ADX_3', 'ADX_7', 'ADX_14', 'ADX_21', 'STOCH_3', 'STOCH_7', 'STOCH_14', 'STOCH_21', 'STOCHRSI_3', 'STOCHRSI_7', 'STOCHRSI_14', 'STOCHRSI_21', 'BBWIDTH_5', 'BBWIDTH_10', 'BBWIDTH_20', 'PERCENT_B_5', 'PERCENT_B_10', 'PERCENT_B_20', 'TARGET']\n",
      "start date: 2016-03-11 10:00:00, end date: 2020-01-04 07:00:00\n",
      "TARGET Percentages: {0: 0.4900213720237199, 1: 0.50997862797628}\n",
      "--------------------- X_validation ---------------------\n",
      "Features: ['ATR_3', 'ATR_7', 'ATR_14', 'ATR_32', 'BB_UPPER_5', 'BB_LOWER_5', 'BB_MIDDLE_5', 'BB_UPPER_10', 'BB_LOWER_10', 'BB_MIDDLE_10', 'BB_UPPER_20', 'BB_LOWER_20', 'BB_MIDDLE_20', 'BLOCK_SIZE', 'HASH_RATE', 'DIFFICULTY', 'TRANSACTION_RATE', 'ACTIVE_ADDRESSES', 'NEW_ADDRESSES', 'ROC_3', 'ROC_6', 'ROC_12', 'ROC_24', 'RSI_3', 'RSI_7', 'RSI_14', 'RSI_32', 'WILLIAMS_3', 'WILLIAMS_7', 'WILLIAMS_14', 'WILLIAMS_32', 'MI_3', 'MI_9', 'MI_18', 'CCI_5', 'CCI_10', 'CCI_20', 'BASP_BUY_10', 'BASP_SELL_10', 'BASP_BUY_20', 'BASP_SELL_20', 'BASP_BUY_40', 'BASP_SELL_40', 'ER_5', 'ER_10', 'ER_15', 'ER_20', 'MACD_LOW', 'MACD_SIGNAL_LOW', 'MACD_MID', 'MACD_SIGNAL_MID', 'MACD_HIGH', 'MACD_SIGNAL_HIGH', 'ADX_3', 'ADX_7', 'ADX_14', 'ADX_21', 'STOCH_3', 'STOCH_7', 'STOCH_14', 'STOCH_21', 'STOCHRSI_3', 'STOCHRSI_7', 'STOCHRSI_14', 'STOCHRSI_21', 'BBWIDTH_5', 'BBWIDTH_10', 'BBWIDTH_20', 'PERCENT_B_5', 'PERCENT_B_10', 'PERCENT_B_20', 'TARGET']\n",
      "start date: 2020-01-05 16:00:00, end date: 2021-04-13 13:00:00\n",
      "TARGET Percentages: {0: 0.48121179431859046, 1: 0.5187882056814096}\n",
      "--------------------- X_test ---------------------\n",
      "Features: ['ATR_3', 'ATR_7', 'ATR_14', 'ATR_32', 'BB_UPPER_5', 'BB_LOWER_5', 'BB_MIDDLE_5', 'BB_UPPER_10', 'BB_LOWER_10', 'BB_MIDDLE_10', 'BB_UPPER_20', 'BB_LOWER_20', 'BB_MIDDLE_20', 'BLOCK_SIZE', 'HASH_RATE', 'DIFFICULTY', 'TRANSACTION_RATE', 'ACTIVE_ADDRESSES', 'NEW_ADDRESSES', 'ROC_3', 'ROC_6', 'ROC_12', 'ROC_24', 'RSI_3', 'RSI_7', 'RSI_14', 'RSI_32', 'WILLIAMS_3', 'WILLIAMS_7', 'WILLIAMS_14', 'WILLIAMS_32', 'MI_3', 'MI_9', 'MI_18', 'CCI_5', 'CCI_10', 'CCI_20', 'BASP_BUY_10', 'BASP_SELL_10', 'BASP_BUY_20', 'BASP_SELL_20', 'BASP_BUY_40', 'BASP_SELL_40', 'ER_5', 'ER_10', 'ER_15', 'ER_20', 'MACD_LOW', 'MACD_SIGNAL_LOW', 'MACD_MID', 'MACD_SIGNAL_MID', 'MACD_HIGH', 'MACD_SIGNAL_HIGH', 'ADX_3', 'ADX_7', 'ADX_14', 'ADX_21', 'STOCH_3', 'STOCH_7', 'STOCH_14', 'STOCH_21', 'STOCHRSI_3', 'STOCHRSI_7', 'STOCHRSI_14', 'STOCHRSI_21', 'BBWIDTH_5', 'BBWIDTH_10', 'BBWIDTH_20', 'PERCENT_B_5', 'PERCENT_B_10', 'PERCENT_B_20', 'TARGET']\n",
      "start date: 2021-04-14 22:00:00, end date: 2022-07-22 19:00:00\n",
      "TARGET Percentages: {0: 0.49554816080582786, 1: 0.5044518391941721}\n"
     ]
    }
   ],
   "source": [
    "eth_dataset = Data(lookback=10, train_size=0.6, validation_size=0.2, test_size=0.2, scaler=get_scaler(), feature_set='ETH_Data', time_to_predict=1, features=None)"
   ]
  },
  {
   "cell_type": "code",
   "execution_count": 7,
   "metadata": {},
   "outputs": [
    {
     "name": "stdout",
     "output_type": "stream",
     "text": [
      "Epoch 1/20\n",
      "64/64 [==============================] - 8s 33ms/step - loss: 0.6931 - auc_1: 0.5140 - binary_accuracy: 0.5111 - val_loss: 0.6959 - val_auc_1: 0.5261 - val_binary_accuracy: 0.4827\n",
      "Epoch 2/20\n",
      "64/64 [==============================] - 1s 17ms/step - loss: 0.6929 - auc_1: 0.5138 - binary_accuracy: 0.5107 - val_loss: 0.6936 - val_auc_1: 0.5290 - val_binary_accuracy: 0.4919\n",
      "Epoch 3/20\n",
      "64/64 [==============================] - 1s 16ms/step - loss: 0.6925 - auc_1: 0.5226 - binary_accuracy: 0.5149 - val_loss: 0.6949 - val_auc_1: 0.5329 - val_binary_accuracy: 0.4963\n",
      "Epoch 4/20\n",
      "64/64 [==============================] - 1s 16ms/step - loss: 0.6921 - auc_1: 0.5256 - binary_accuracy: 0.5196 - val_loss: 0.6946 - val_auc_1: 0.5410 - val_binary_accuracy: 0.4915\n",
      "Epoch 5/20\n",
      "64/64 [==============================] - 1s 17ms/step - loss: 0.6917 - auc_1: 0.5297 - binary_accuracy: 0.5191 - val_loss: 0.6973 - val_auc_1: 0.5477 - val_binary_accuracy: 0.4903\n",
      "Epoch 6/20\n",
      "64/64 [==============================] - 1s 15ms/step - loss: 0.6913 - auc_1: 0.5342 - binary_accuracy: 0.5230 - val_loss: 0.6915 - val_auc_1: 0.5580 - val_binary_accuracy: 0.5210\n",
      "Epoch 7/20\n",
      "64/64 [==============================] - 1s 14ms/step - loss: 0.6903 - auc_1: 0.5406 - binary_accuracy: 0.5272 - val_loss: 0.6930 - val_auc_1: 0.5596 - val_binary_accuracy: 0.5153\n",
      "Epoch 8/20\n",
      "64/64 [==============================] - 1s 14ms/step - loss: 0.6894 - auc_1: 0.5479 - binary_accuracy: 0.5331 - val_loss: 0.6912 - val_auc_1: 0.5613 - val_binary_accuracy: 0.5261\n",
      "Epoch 9/20\n",
      "64/64 [==============================] - 1s 14ms/step - loss: 0.6888 - auc_1: 0.5521 - binary_accuracy: 0.5354 - val_loss: 0.6916 - val_auc_1: 0.5623 - val_binary_accuracy: 0.5214\n",
      "Epoch 10/20\n",
      "64/64 [==============================] - 1s 15ms/step - loss: 0.6884 - auc_1: 0.5551 - binary_accuracy: 0.5397 - val_loss: 0.6939 - val_auc_1: 0.5645 - val_binary_accuracy: 0.5231\n",
      "Epoch 11/20\n",
      "64/64 [==============================] - 1s 14ms/step - loss: 0.6878 - auc_1: 0.5588 - binary_accuracy: 0.5400 - val_loss: 0.6905 - val_auc_1: 0.5614 - val_binary_accuracy: 0.5349\n",
      "Epoch 12/20\n",
      "64/64 [==============================] - 1s 14ms/step - loss: 0.6877 - auc_1: 0.5584 - binary_accuracy: 0.5448 - val_loss: 0.6980 - val_auc_1: 0.5635 - val_binary_accuracy: 0.5190\n",
      "Epoch 13/20\n",
      "64/64 [==============================] - 1s 15ms/step - loss: 0.6869 - auc_1: 0.5639 - binary_accuracy: 0.5464 - val_loss: 0.6998 - val_auc_1: 0.5654 - val_binary_accuracy: 0.5195\n",
      "Epoch 14/20\n",
      "64/64 [==============================] - 1s 14ms/step - loss: 0.6859 - auc_1: 0.5670 - binary_accuracy: 0.5498 - val_loss: 0.6962 - val_auc_1: 0.5654 - val_binary_accuracy: 0.5218\n",
      "Epoch 15/20\n",
      "64/64 [==============================] - 1s 15ms/step - loss: 0.6855 - auc_1: 0.5701 - binary_accuracy: 0.5517 - val_loss: 0.6910 - val_auc_1: 0.5655 - val_binary_accuracy: 0.5393\n",
      "Epoch 16/20\n",
      "64/64 [==============================] - 1s 17ms/step - loss: 0.6855 - auc_1: 0.5687 - binary_accuracy: 0.5472 - val_loss: 0.6948 - val_auc_1: 0.5668 - val_binary_accuracy: 0.5355\n",
      "Epoch 17/20\n",
      "64/64 [==============================] - 1s 15ms/step - loss: 0.6850 - auc_1: 0.5712 - binary_accuracy: 0.5487 - val_loss: 0.6951 - val_auc_1: 0.5664 - val_binary_accuracy: 0.5316\n",
      "Epoch 18/20\n",
      "64/64 [==============================] - 1s 14ms/step - loss: 0.6845 - auc_1: 0.5727 - binary_accuracy: 0.5513 - val_loss: 0.6982 - val_auc_1: 0.5643 - val_binary_accuracy: 0.5339\n",
      "Epoch 19/20\n",
      "64/64 [==============================] - 1s 14ms/step - loss: 0.6840 - auc_1: 0.5744 - binary_accuracy: 0.5536 - val_loss: 0.6992 - val_auc_1: 0.5623 - val_binary_accuracy: 0.5313\n",
      "Epoch 20/20\n",
      "64/64 [==============================] - 1s 14ms/step - loss: 0.6833 - auc_1: 0.5774 - binary_accuracy: 0.5543 - val_loss: 0.7164 - val_auc_1: 0.5592 - val_binary_accuracy: 0.5162\n",
      "348/348 [==============================] - 2s 3ms/step\n",
      "348/348 [==============================] - 1s 3ms/step\n"
     ]
    },
    {
     "data": {
      "text/plain": [
       "{'log_val': 0.7180247106564668,\n",
       " 'accuracy_val': 0.5215397068081662,\n",
       " 'f_1': 0.36317931529806086,\n",
       " 'recall': 0.27045819219112144,\n",
       " 'precision': 0.5526411657559198,\n",
       " 'auc': 0.5237953392897531}"
      ]
     },
     "execution_count": 7,
     "metadata": {},
     "output_type": "execute_result"
    },
    {
     "data": {
      "image/png": "[encoded data removed]",
      "text/plain": [
       "<Figure size 432x288 with 2 Axes>"
      ]
     },
     "metadata": {
      "needs_background": "light"
     },
     "output_type": "display_data"
    },
    {
     "data": {
      "image/png": "[encoded data removed]",
      "text/plain": [
       "<Figure size 432x288 with 2 Axes>"
      ]
     },
     "metadata": {
      "needs_background": "light"
     },
     "output_type": "display_data"
    }
   ],
   "source": [
    "class Model(BaseModelFromScratch):\n",
    "    def create_model(self):\n",
    "        self.model = tf.keras.models.Sequential()\n",
    "        self.model.add(\n",
    "            tf.keras.layers.LSTM(\n",
    "                128,\n",
    "                dropout=0.3, \n",
    "                return_sequences=True,\n",
    "                input_shape=(self.dataset.X_train.shape[1:]),\n",
    "            )\n",
    "        )\n",
    "        self.model.add(tf.keras.layers.LSTM(64, dropout=0.3))\n",
    "        self.model.add(tf.keras.layers.Dense(32, activation=\"relu\"))\n",
    "        self.model.add(tf.keras.layers.Dropout(0.3))\n",
    "        self.model.add(tf.keras.layers.Dense(1, activation=\"sigmoid\"))\n",
    "\n",
    "    def train_model(self):\n",
    "        opt = tf.keras.optimizers.Nadam()\n",
    "        time = datetime.datetime.now().strftime(\"%Y%m%d-%H%M%S\")\n",
    "        tensorboard = tf.keras.callbacks.TensorBoard(f\"{self.directory}/{self.project_name}/tb_logs/{time}\")\n",
    "        early_stop = tf.keras.callbacks.EarlyStopping(monitor=\"val_loss\", patience=25, restore_best_weights=True)\n",
    "        self.model.compile(\n",
    "            loss=\"binary_crossentropy\",\n",
    "            optimizer=opt,\n",
    "            metrics=[tf.keras.metrics.AUC(), tf.keras.metrics.BinaryAccuracy()],\n",
    "        )\n",
    "        class_weights = class_weight.compute_class_weight(class_weight='balanced', classes=np.unique(self.dataset.y_train.tolist()), y=[i for x in self.dataset.y_train for i in x])\n",
    "        class_weights = dict(enumerate(class_weights))\n",
    "\n",
    "        self.model.fit(\n",
    "            self.dataset.X_train,\n",
    "            self.dataset.y_train,\n",
    "            validation_data=(self.dataset.X_validation, self.dataset.y_validation),\n",
    "            epochs=20,\n",
    "            batch_size=526,\n",
    "            class_weight=class_weights,\n",
    "            callbacks=[tensorboard],\n",
    "            shuffle=False,\n",
    "        )\n",
    "\n",
    "m = Model(model_name=\"eth_all_features\", directory='models', project_name='testing', dataset=eth_dataset)\n",
    "m.train()\n",
    "m.run_statistics(DatasetEnum.Validation)\n",
    "m.run_statistics(DatasetEnum.Test)"
   ]
  },
  {
   "cell_type": "code",
   "execution_count": 8,
   "metadata": {},
   "outputs": [
    {
     "name": "stderr",
     "output_type": "stream",
     "text": [
      "WARNING:absl:Found untraced functions such as lstm_cell_4_layer_call_fn, lstm_cell_4_layer_call_and_return_conditional_losses, lstm_cell_5_layer_call_fn, lstm_cell_5_layer_call_and_return_conditional_losses while saving (showing 4 of 4). These functions will not be directly callable after loading.\n"
     ]
    },
    {
     "name": "stdout",
     "output_type": "stream",
     "text": [
      "INFO:tensorflow:Assets written to: ram://88e5c857-ed9f-417b-a3e5-0c11a78019d0/assets\n"
     ]
    },
    {
     "name": "stderr",
     "output_type": "stream",
     "text": [
      "INFO:tensorflow:Assets written to: ram://88e5c857-ed9f-417b-a3e5-0c11a78019d0/assets\n"
     ]
    }
   ],
   "source": [
    "m.save_model()"
   ]
  },
  {
   "cell_type": "code",
   "execution_count": null,
   "metadata": {},
   "outputs": [],
   "source": []
  }
 ],
 "metadata": {
  "interpreter": {
   "hash": "638a2a7cd1845dd792b7d53cabe158d221d070bf73a30c193ab0a1a33523614c"
  },
  "kernelspec": {
   "display_name": "Python 3.9.12 ('tf')",
   "language": "python",
   "name": "python3"
  },
  "language_info": {
   "codemirror_mode": {
    "name": "ipython",
    "version": 3
   },
   "file_extension": ".py",
   "mimetype": "text/x-python",
   "name": "python",
   "nbconvert_exporter": "python",
   "pygments_lexer": "ipython3",
   "version": "3.9.12"
  },
  "orig_nbformat": 4
 },
 "nbformat": 4,
 "nbformat_minor": 2
}
