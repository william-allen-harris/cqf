{
 "cells": [
  {
   "cell_type": "code",
   "execution_count": 1,
   "metadata": {},
   "outputs": [
    {
     "name": "stderr",
     "output_type": "stream",
     "text": [
      "/home/williamharris/anaconda3/envs/tf/lib/python3.9/site-packages/tqdm/auto.py:22: TqdmWarning: IProgress not found. Please update jupyter and ipywidgets. See https://ipywidgets.readthedocs.io/en/stable/user_install.html\n",
      "  from .autonotebook import tqdm as notebook_tqdm\n"
     ]
    }
   ],
   "source": [
    "import numpy as np\n",
    "import tensorflow as tf\n",
    "from sklearn.utils import class_weight\n",
    "from sklearn.preprocessing import MinMaxScaler\n",
    "import datetime\n",
    "\n",
    "from controllers.utils import set_seeds, load\n",
    "from controllers.base_model import BaseModelFromScratch\n",
    "from controllers.base_data import DatasetEnum, Dataset\n",
    "from controllers.data import Data\n",
    "\n",
    "set_seeds(0)"
   ]
  },
  {
   "cell_type": "markdown",
   "metadata": {},
   "source": [
    "# BTC"
   ]
  },
  {
   "cell_type": "code",
   "execution_count": 2,
   "metadata": {},
   "outputs": [
    {
     "name": "stdout",
     "output_type": "stream",
     "text": [
      "--------------------- X_train ---------------------\n",
      "Features: ['ATR_3', 'ATR_7', 'ATR_14', 'ATR_32', 'BB_UPPER_5', 'BB_LOWER_5', 'BB_MIDDLE_5', 'BB_UPPER_10', 'BB_LOWER_10', 'BB_MIDDLE_10', 'BB_UPPER_20', 'BB_LOWER_20', 'BB_MIDDLE_20', 'BLOCK_SIZE', 'HASH_RATE', 'DIFFICULTY', 'TRANSACTION_RATE', 'ACTIVE_ADDRESSES', 'NEW_ADDRESSES', 'ROC_3', 'ROC_6', 'ROC_12', 'ROC_24', 'RSI_3', 'RSI_7', 'RSI_14', 'RSI_32', 'WILLIAMS_3', 'WILLIAMS_7', 'WILLIAMS_14', 'WILLIAMS_32', 'MI_3', 'MI_9', 'MI_18', 'CCI_5', 'CCI_10', 'CCI_20', 'BASP_BUY_10', 'BASP_SELL_10', 'BASP_BUY_20', 'BASP_SELL_20', 'BASP_BUY_40', 'BASP_SELL_40', 'ER_5', 'ER_10', 'ER_15', 'ER_20', 'MACD_LOW', 'MACD_SIGNAL_LOW', 'MACD_MID', 'MACD_SIGNAL_MID', 'MACD_HIGH', 'MACD_SIGNAL_HIGH', 'ADX_3', 'ADX_7', 'ADX_14', 'ADX_21', 'STOCH_3', 'STOCH_7', 'STOCH_14', 'STOCH_21', 'STOCHRSI_3', 'STOCHRSI_7', 'STOCHRSI_14', 'STOCHRSI_21', 'BBWIDTH_5', 'BBWIDTH_10', 'BBWIDTH_20', 'PERCENT_B_5', 'PERCENT_B_10', 'PERCENT_B_20', 'TARGET']\n",
      "start date: 2013-04-02 07:00:00, end date: 2018-10-31 20:00:00\n",
      "TARGET Percentages: {0: 0.4800615700359159, 1: 0.5199384299640841}\n",
      "--------------------- X_validation ---------------------\n",
      "Features: ['ATR_3', 'ATR_7', 'ATR_14', 'ATR_32', 'BB_UPPER_5', 'BB_LOWER_5', 'BB_MIDDLE_5', 'BB_UPPER_10', 'BB_LOWER_10', 'BB_MIDDLE_10', 'BB_UPPER_20', 'BB_LOWER_20', 'BB_MIDDLE_20', 'BLOCK_SIZE', 'HASH_RATE', 'DIFFICULTY', 'TRANSACTION_RATE', 'ACTIVE_ADDRESSES', 'NEW_ADDRESSES', 'ROC_3', 'ROC_6', 'ROC_12', 'ROC_24', 'RSI_3', 'RSI_7', 'RSI_14', 'RSI_32', 'WILLIAMS_3', 'WILLIAMS_7', 'WILLIAMS_14', 'WILLIAMS_32', 'MI_3', 'MI_9', 'MI_18', 'CCI_5', 'CCI_10', 'CCI_20', 'BASP_BUY_10', 'BASP_SELL_10', 'BASP_BUY_20', 'BASP_SELL_20', 'BASP_BUY_40', 'BASP_SELL_40', 'ER_5', 'ER_10', 'ER_15', 'ER_20', 'MACD_LOW', 'MACD_SIGNAL_LOW', 'MACD_MID', 'MACD_SIGNAL_MID', 'MACD_HIGH', 'MACD_SIGNAL_HIGH', 'ADX_3', 'ADX_7', 'ADX_14', 'ADX_21', 'STOCH_3', 'STOCH_7', 'STOCH_14', 'STOCH_21', 'STOCHRSI_3', 'STOCHRSI_7', 'STOCHRSI_14', 'STOCHRSI_21', 'BBWIDTH_5', 'BBWIDTH_10', 'BBWIDTH_20', 'PERCENT_B_5', 'PERCENT_B_10', 'PERCENT_B_20', 'TARGET']\n",
      "start date: 2018-11-02 05:00:00, end date: 2020-09-10 19:00:00\n",
      "TARGET Percentages: {0: 0.48952509676230266, 1: 0.5104749032376974}\n",
      "--------------------- X_test ---------------------\n",
      "Features: ['ATR_3', 'ATR_7', 'ATR_14', 'ATR_32', 'BB_UPPER_5', 'BB_LOWER_5', 'BB_MIDDLE_5', 'BB_UPPER_10', 'BB_LOWER_10', 'BB_MIDDLE_10', 'BB_UPPER_20', 'BB_LOWER_20', 'BB_MIDDLE_20', 'BLOCK_SIZE', 'HASH_RATE', 'DIFFICULTY', 'TRANSACTION_RATE', 'ACTIVE_ADDRESSES', 'NEW_ADDRESSES', 'ROC_3', 'ROC_6', 'ROC_12', 'ROC_24', 'RSI_3', 'RSI_7', 'RSI_14', 'RSI_32', 'WILLIAMS_3', 'WILLIAMS_7', 'WILLIAMS_14', 'WILLIAMS_32', 'MI_3', 'MI_9', 'MI_18', 'CCI_5', 'CCI_10', 'CCI_20', 'BASP_BUY_10', 'BASP_SELL_10', 'BASP_BUY_20', 'BASP_SELL_20', 'BASP_BUY_40', 'BASP_SELL_40', 'ER_5', 'ER_10', 'ER_15', 'ER_20', 'MACD_LOW', 'MACD_SIGNAL_LOW', 'MACD_MID', 'MACD_SIGNAL_MID', 'MACD_HIGH', 'MACD_SIGNAL_HIGH', 'ADX_3', 'ADX_7', 'ADX_14', 'ADX_21', 'STOCH_3', 'STOCH_7', 'STOCH_14', 'STOCH_21', 'STOCHRSI_3', 'STOCHRSI_7', 'STOCHRSI_14', 'STOCHRSI_21', 'BBWIDTH_5', 'BBWIDTH_10', 'BBWIDTH_20', 'PERCENT_B_5', 'PERCENT_B_10', 'PERCENT_B_20', 'TARGET']\n",
      "start date: 2020-09-12 04:00:00, end date: 2022-07-22 19:00:00\n",
      "TARGET Percentages: {0: 0.4922585401818629, 1: 0.5077414598181371}\n"
     ]
    }
   ],
   "source": [
    "btc_dataset = Data(\n",
    "            lookback=10,\n",
    "            train_size=0.6,\n",
    "            validation_size=0.2,\n",
    "            test_size=0.2,\n",
    "            scaler=MinMaxScaler(),\n",
    "            feature_set=f\"BTC_Data\",\n",
    "            time_to_predict=1,\n",
    "            features=None,\n",
    "        )"
   ]
  },
  {
   "cell_type": "code",
   "execution_count": 3,
   "metadata": {},
   "outputs": [
    {
     "name": "stderr",
     "output_type": "stream",
     "text": [
      "2022-08-21 16:46:00.881899: I tensorflow/stream_executor/cuda/cuda_gpu_executor.cc:975] successful NUMA node read from SysFS had negative value (-1), but there must be at least one NUMA node, so returning NUMA node zero\n",
      "2022-08-21 16:46:00.887571: I tensorflow/stream_executor/cuda/cuda_gpu_executor.cc:975] successful NUMA node read from SysFS had negative value (-1), but there must be at least one NUMA node, so returning NUMA node zero\n",
      "2022-08-21 16:46:00.888200: I tensorflow/stream_executor/cuda/cuda_gpu_executor.cc:975] successful NUMA node read from SysFS had negative value (-1), but there must be at least one NUMA node, so returning NUMA node zero\n",
      "2022-08-21 16:46:00.889969: I tensorflow/stream_executor/cuda/cuda_gpu_executor.cc:975] successful NUMA node read from SysFS had negative value (-1), but there must be at least one NUMA node, so returning NUMA node zero\n",
      "2022-08-21 16:46:00.890625: I tensorflow/stream_executor/cuda/cuda_gpu_executor.cc:975] successful NUMA node read from SysFS had negative value (-1), but there must be at least one NUMA node, so returning NUMA node zero\n",
      "2022-08-21 16:46:00.891118: I tensorflow/stream_executor/cuda/cuda_gpu_executor.cc:975] successful NUMA node read from SysFS had negative value (-1), but there must be at least one NUMA node, so returning NUMA node zero\n",
      "2022-08-21 16:46:01.448663: I tensorflow/stream_executor/cuda/cuda_gpu_executor.cc:975] successful NUMA node read from SysFS had negative value (-1), but there must be at least one NUMA node, so returning NUMA node zero\n",
      "2022-08-21 16:46:01.449149: I tensorflow/stream_executor/cuda/cuda_gpu_executor.cc:975] successful NUMA node read from SysFS had negative value (-1), but there must be at least one NUMA node, so returning NUMA node zero\n",
      "2022-08-21 16:46:01.449597: I tensorflow/stream_executor/cuda/cuda_gpu_executor.cc:975] successful NUMA node read from SysFS had negative value (-1), but there must be at least one NUMA node, so returning NUMA node zero\n",
      "2022-08-21 16:46:01.450001: I tensorflow/core/common_runtime/gpu/gpu_device.cc:1532] Created device /job:localhost/replica:0/task:0/device:GPU:0 with 6147 MB memory:  -> device: 0, name: NVIDIA GeForce RTX 2070 SUPER, pci bus id: 0000:01:00.0, compute capability: 7.5\n",
      "2022-08-21 16:46:11.373053: I tensorflow/stream_executor/cuda/cuda_dnn.cc:384] Loaded cuDNN version 8100\n"
     ]
    },
    {
     "name": "stdout",
     "output_type": "stream",
     "text": [
      "1523/1523 [==============================] - 5s 2ms/step\n",
      "509/509 [==============================] - 1s 3ms/step\n",
      "509/509 [==============================] - 1s 3ms/step\n"
     ]
    }
   ],
   "source": [
    "autoencoder_model_class = load(\"/home/williamharris/Dev/CQF_final_project/models/testing/BTC_autoencoder_model/model.pickle\")\n",
    "encoder_model = autoencoder_model_class.model.get_layer(\"encoder\")\n",
    "\n",
    "btc_encoded_dataset = Dataset(X_train=encoder_model.predict(btc_dataset.X_train), y_train=btc_dataset.y_train, \n",
    "        X_validation=encoder_model.predict(btc_dataset.X_validation), y_validation=btc_dataset.y_validation, \n",
    "        X_test=encoder_model.predict(btc_dataset.X_test), y_test=btc_dataset.y_test, feature_names=btc_dataset.feature_names)"
   ]
  },
  {
   "cell_type": "code",
   "execution_count": 4,
   "metadata": {},
   "outputs": [
    {
     "name": "stdout",
     "output_type": "stream",
     "text": [
      "Epoch 1/25\n",
      "96/96 [==============================] - 10s 33ms/step - loss: 0.6933 - auc: 0.5106 - binary_accuracy: 0.5103 - val_loss: 0.6938 - val_auc: 0.4974 - val_binary_accuracy: 0.4895\n",
      "Epoch 2/25\n",
      "96/96 [==============================] - 2s 19ms/step - loss: 0.6930 - auc: 0.5127 - binary_accuracy: 0.5099 - val_loss: 0.6946 - val_auc: 0.5033 - val_binary_accuracy: 0.4896\n",
      "Epoch 3/25\n",
      "96/96 [==============================] - 2s 20ms/step - loss: 0.6930 - auc: 0.5138 - binary_accuracy: 0.5109 - val_loss: 0.6936 - val_auc: 0.5056 - val_binary_accuracy: 0.4898\n",
      "Epoch 4/25\n",
      "96/96 [==============================] - 2s 19ms/step - loss: 0.6930 - auc: 0.5119 - binary_accuracy: 0.5064 - val_loss: 0.6942 - val_auc: 0.5043 - val_binary_accuracy: 0.4919\n",
      "Epoch 5/25\n",
      "96/96 [==============================] - 2s 18ms/step - loss: 0.6928 - auc: 0.5173 - binary_accuracy: 0.5106 - val_loss: 0.6959 - val_auc: 0.5152 - val_binary_accuracy: 0.4898\n",
      "Epoch 6/25\n",
      "96/96 [==============================] - 2s 19ms/step - loss: 0.6925 - auc: 0.5224 - binary_accuracy: 0.5143 - val_loss: 0.6959 - val_auc: 0.5199 - val_binary_accuracy: 0.4964\n",
      "Epoch 7/25\n",
      "96/96 [==============================] - 2s 18ms/step - loss: 0.6911 - auc: 0.5391 - binary_accuracy: 0.5285 - val_loss: 0.6910 - val_auc: 0.5575 - val_binary_accuracy: 0.5206\n",
      "Epoch 8/25\n",
      "96/96 [==============================] - 2s 18ms/step - loss: 0.6877 - auc: 0.5616 - binary_accuracy: 0.5468 - val_loss: 0.8226 - val_auc: 0.5558 - val_binary_accuracy: 0.4899\n",
      "Epoch 9/25\n",
      "96/96 [==============================] - 2s 18ms/step - loss: 0.6884 - auc: 0.5651 - binary_accuracy: 0.5488 - val_loss: 0.6913 - val_auc: 0.5702 - val_binary_accuracy: 0.5319\n",
      "Epoch 10/25\n",
      "96/96 [==============================] - 2s 18ms/step - loss: 0.6859 - auc: 0.5708 - binary_accuracy: 0.5524 - val_loss: 0.6887 - val_auc: 0.5725 - val_binary_accuracy: 0.5413\n",
      "Epoch 11/25\n",
      "96/96 [==============================] - 2s 18ms/step - loss: 0.6849 - auc: 0.5745 - binary_accuracy: 0.5536 - val_loss: 0.6884 - val_auc: 0.5741 - val_binary_accuracy: 0.5438\n",
      "Epoch 12/25\n",
      "96/96 [==============================] - 2s 18ms/step - loss: 0.6840 - auc: 0.5777 - binary_accuracy: 0.5566 - val_loss: 0.6886 - val_auc: 0.5702 - val_binary_accuracy: 0.5429\n",
      "Epoch 13/25\n",
      "96/96 [==============================] - 2s 18ms/step - loss: 0.6836 - auc: 0.5796 - binary_accuracy: 0.5572 - val_loss: 0.6901 - val_auc: 0.5714 - val_binary_accuracy: 0.5402\n",
      "Epoch 14/25\n",
      "96/96 [==============================] - 2s 18ms/step - loss: 0.6838 - auc: 0.5788 - binary_accuracy: 0.5575 - val_loss: 0.6876 - val_auc: 0.5715 - val_binary_accuracy: 0.5443\n",
      "Epoch 15/25\n",
      "96/96 [==============================] - 2s 18ms/step - loss: 0.6837 - auc: 0.5795 - binary_accuracy: 0.5577 - val_loss: 0.6883 - val_auc: 0.5732 - val_binary_accuracy: 0.5438\n",
      "Epoch 16/25\n",
      "96/96 [==============================] - 2s 18ms/step - loss: 0.6832 - auc: 0.5819 - binary_accuracy: 0.5597 - val_loss: 0.6882 - val_auc: 0.5694 - val_binary_accuracy: 0.5446\n",
      "Epoch 17/25\n",
      "96/96 [==============================] - 2s 18ms/step - loss: 0.6833 - auc: 0.5811 - binary_accuracy: 0.5610 - val_loss: 0.6869 - val_auc: 0.5721 - val_binary_accuracy: 0.5498\n",
      "Epoch 18/25\n",
      "96/96 [==============================] - 2s 18ms/step - loss: 0.6828 - auc: 0.5829 - binary_accuracy: 0.5615 - val_loss: 0.6875 - val_auc: 0.5708 - val_binary_accuracy: 0.5453\n",
      "Epoch 19/25\n",
      "96/96 [==============================] - 2s 18ms/step - loss: 0.6826 - auc: 0.5834 - binary_accuracy: 0.5618 - val_loss: 0.6867 - val_auc: 0.5722 - val_binary_accuracy: 0.5487\n",
      "Epoch 20/25\n",
      "96/96 [==============================] - 2s 18ms/step - loss: 0.6825 - auc: 0.5838 - binary_accuracy: 0.5618 - val_loss: 0.6887 - val_auc: 0.5714 - val_binary_accuracy: 0.5425\n",
      "Epoch 21/25\n",
      "96/96 [==============================] - 2s 18ms/step - loss: 0.6825 - auc: 0.5844 - binary_accuracy: 0.5625 - val_loss: 0.6867 - val_auc: 0.5728 - val_binary_accuracy: 0.5470\n",
      "Epoch 22/25\n",
      "96/96 [==============================] - 2s 18ms/step - loss: 0.6821 - auc: 0.5852 - binary_accuracy: 0.5641 - val_loss: 0.6872 - val_auc: 0.5725 - val_binary_accuracy: 0.5459\n",
      "Epoch 23/25\n",
      "96/96 [==============================] - 2s 18ms/step - loss: 0.6822 - auc: 0.5851 - binary_accuracy: 0.5621 - val_loss: 0.6873 - val_auc: 0.5714 - val_binary_accuracy: 0.5460\n",
      "Epoch 24/25\n",
      "96/96 [==============================] - 2s 18ms/step - loss: 0.6821 - auc: 0.5846 - binary_accuracy: 0.5629 - val_loss: 0.6871 - val_auc: 0.5735 - val_binary_accuracy: 0.5473\n",
      "Epoch 25/25\n",
      "96/96 [==============================] - 2s 18ms/step - loss: 0.6818 - auc: 0.5861 - binary_accuracy: 0.5628 - val_loss: 0.6884 - val_auc: 0.5726 - val_binary_accuracy: 0.5437\n"
     ]
    }
   ],
   "source": [
    "class Model(BaseModelFromScratch):\n",
    "    def create_model(self):\n",
    "        self.model = tf.keras.models.Sequential()\n",
    "        self.model.add(\n",
    "            tf.keras.layers.LSTM(\n",
    "                320,\n",
    "                return_sequences=True,\n",
    "                input_shape=(self.dataset.X_train.shape[1:]),\n",
    "            )\n",
    "        )\n",
    "        self.model.add(tf.keras.layers.LSTM(320, return_sequences=True))\n",
    "        self.model.add(tf.keras.layers.LSTM(32,))\n",
    "        self.model.add(tf.keras.layers.Dense(32, activation=\"relu\"))\n",
    "        self.model.add(tf.keras.layers.Dropout(0.4))\n",
    "        self.model.add(tf.keras.layers.Dense(1, activation=\"sigmoid\"))\n",
    "\n",
    "    def train_model(self):\n",
    "        opt = tf.keras.optimizers.Nadam(learning_rate=0.001)\n",
    "        time = datetime.datetime.now().strftime(\"%Y%m%d-%H%M%S\")\n",
    "        tensorboard = tf.keras.callbacks.TensorBoard(f\"{self.directory}/{self.project_name}/tb_logs/{time}\")\n",
    "        early_stop = tf.keras.callbacks.EarlyStopping(monitor=\"val_loss\", patience=25, restore_best_weights=True)\n",
    "        self.model.compile(\n",
    "            loss=\"binary_crossentropy\",\n",
    "            optimizer=opt,\n",
    "            metrics=[tf.keras.metrics.AUC(), tf.keras.metrics.BinaryAccuracy()],\n",
    "        )\n",
    "        class_weights = class_weight.compute_class_weight(class_weight='balanced', classes=np.unique(self.dataset.y_train.tolist()), y=[i for x in self.dataset.y_train for i in x])\n",
    "        class_weights = dict(enumerate(class_weights))\n",
    "\n",
    "        self.model.fit(\n",
    "            self.dataset.X_train,\n",
    "            self.dataset.y_train,\n",
    "            validation_data=(self.dataset.X_validation, self.dataset.y_validation),\n",
    "            epochs=25,\n",
    "            batch_size=512,\n",
    "            class_weight=class_weights,\n",
    "            callbacks=[early_stop, tensorboard],\n",
    "            shuffle=False,\n",
    "        )\n",
    "\n",
    "\n",
    "m = Model(model_name=\"btc_autoencoder\", directory='models', project_name='testing', dataset=btc_encoded_dataset)\n",
    "m.train()"
   ]
  },
  {
   "cell_type": "code",
   "execution_count": 5,
   "metadata": {},
   "outputs": [
    {
     "name": "stdout",
     "output_type": "stream",
     "text": [
      "509/509 [==============================] - 4s 5ms/step\n"
     ]
    },
    {
     "data": {
      "text/plain": [
       "{'log_val': 0.688418879763547,\n",
       " 'accuracy_val': 0.5437119862382503,\n",
       " 'f_1': 0.46839882613986117,\n",
       " 'recall': 0.393789866409917,\n",
       " 'precision': 0.5778876722006359,\n",
       " 'auc': 0.5469200336065649}"
      ]
     },
     "execution_count": 5,
     "metadata": {},
     "output_type": "execute_result"
    },
    {
     "data": {
      "image/png": "[encoded data removed]",
      "text/plain": [
       "<Figure size 432x288 with 2 Axes>"
      ]
     },
     "metadata": {
      "needs_background": "light"
     },
     "output_type": "display_data"
    }
   ],
   "source": [
    "m.run_statistics(DatasetEnum.Validation)"
   ]
  },
  {
   "cell_type": "code",
   "execution_count": 6,
   "metadata": {},
   "outputs": [
    {
     "name": "stdout",
     "output_type": "stream",
     "text": [
      "509/509 [==============================] - 2s 4ms/step\n"
     ]
    },
    {
     "data": {
      "text/plain": [
       "{'log_val': 0.69634611142168,\n",
       " 'accuracy_val': 0.5299827967559597,\n",
       " 'f_1': 0.4614951428973673,\n",
       " 'recall': 0.39666021297192644,\n",
       " 'precision': 0.5516661056883204,\n",
       " 'auc': 0.5320794824220592}"
      ]
     },
     "execution_count": 6,
     "metadata": {},
     "output_type": "execute_result"
    },
    {
     "data": {
      "image/png": "[encoded data removed]",
      "text/plain": [
       "<Figure size 432x288 with 2 Axes>"
      ]
     },
     "metadata": {
      "needs_background": "light"
     },
     "output_type": "display_data"
    }
   ],
   "source": [
    "m.run_statistics(DatasetEnum.Test)"
   ]
  },
  {
   "cell_type": "code",
   "execution_count": 7,
   "metadata": {},
   "outputs": [
    {
     "name": "stdout",
     "output_type": "stream",
     "text": [
      "Model: \"sequential\"\n",
      "_________________________________________________________________\n",
      " Layer (type)                Output Shape              Param #   \n",
      "=================================================================\n",
      " lstm (LSTM)                 (None, 10, 320)           423680    \n",
      "                                                                 \n",
      " lstm_1 (LSTM)               (None, 10, 320)           820480    \n",
      "                                                                 \n",
      " lstm_2 (LSTM)               (None, 32)                45184     \n",
      "                                                                 \n",
      " dense (Dense)               (None, 32)                1056      \n",
      "                                                                 \n",
      " dropout (Dropout)           (None, 32)                0         \n",
      "                                                                 \n",
      " dense_1 (Dense)             (None, 1)                 33        \n",
      "                                                                 \n",
      "=================================================================\n",
      "Total params: 1,290,433\n",
      "Trainable params: 1,290,433\n",
      "Non-trainable params: 0\n",
      "_________________________________________________________________\n"
     ]
    }
   ],
   "source": [
    "m.model.summary()"
   ]
  },
  {
   "cell_type": "markdown",
   "metadata": {},
   "source": [
    "# ETH"
   ]
  },
  {
   "cell_type": "code",
   "execution_count": 8,
   "metadata": {},
   "outputs": [
    {
     "name": "stdout",
     "output_type": "stream",
     "text": [
      "--------------------- X_train ---------------------\n",
      "Features: ['ATR_3', 'ATR_7', 'ATR_14', 'ATR_32', 'BB_UPPER_5', 'BB_LOWER_5', 'BB_MIDDLE_5', 'BB_UPPER_10', 'BB_LOWER_10', 'BB_MIDDLE_10', 'BB_UPPER_20', 'BB_LOWER_20', 'BB_MIDDLE_20', 'BLOCK_SIZE', 'HASH_RATE', 'DIFFICULTY', 'TRANSACTION_RATE', 'ACTIVE_ADDRESSES', 'NEW_ADDRESSES', 'ROC_3', 'ROC_6', 'ROC_12', 'ROC_24', 'RSI_3', 'RSI_7', 'RSI_14', 'RSI_32', 'WILLIAMS_3', 'WILLIAMS_7', 'WILLIAMS_14', 'WILLIAMS_32', 'MI_3', 'MI_9', 'MI_18', 'CCI_5', 'CCI_10', 'CCI_20', 'BASP_BUY_10', 'BASP_SELL_10', 'BASP_BUY_20', 'BASP_SELL_20', 'BASP_BUY_40', 'BASP_SELL_40', 'ER_5', 'ER_10', 'ER_15', 'ER_20', 'MACD_LOW', 'MACD_SIGNAL_LOW', 'MACD_MID', 'MACD_SIGNAL_MID', 'MACD_HIGH', 'MACD_SIGNAL_HIGH', 'ADX_3', 'ADX_7', 'ADX_14', 'ADX_21', 'STOCH_3', 'STOCH_7', 'STOCH_14', 'STOCH_21', 'STOCHRSI_3', 'STOCHRSI_7', 'STOCHRSI_14', 'STOCHRSI_21', 'BBWIDTH_5', 'BBWIDTH_10', 'BBWIDTH_20', 'PERCENT_B_5', 'PERCENT_B_10', 'PERCENT_B_20', 'TARGET']\n",
      "start date: 2016-03-11 10:00:00, end date: 2020-01-04 07:00:00\n",
      "TARGET Percentages: {0: 0.4900213720237199, 1: 0.50997862797628}\n",
      "--------------------- X_validation ---------------------\n",
      "Features: ['ATR_3', 'ATR_7', 'ATR_14', 'ATR_32', 'BB_UPPER_5', 'BB_LOWER_5', 'BB_MIDDLE_5', 'BB_UPPER_10', 'BB_LOWER_10', 'BB_MIDDLE_10', 'BB_UPPER_20', 'BB_LOWER_20', 'BB_MIDDLE_20', 'BLOCK_SIZE', 'HASH_RATE', 'DIFFICULTY', 'TRANSACTION_RATE', 'ACTIVE_ADDRESSES', 'NEW_ADDRESSES', 'ROC_3', 'ROC_6', 'ROC_12', 'ROC_24', 'RSI_3', 'RSI_7', 'RSI_14', 'RSI_32', 'WILLIAMS_3', 'WILLIAMS_7', 'WILLIAMS_14', 'WILLIAMS_32', 'MI_3', 'MI_9', 'MI_18', 'CCI_5', 'CCI_10', 'CCI_20', 'BASP_BUY_10', 'BASP_SELL_10', 'BASP_BUY_20', 'BASP_SELL_20', 'BASP_BUY_40', 'BASP_SELL_40', 'ER_5', 'ER_10', 'ER_15', 'ER_20', 'MACD_LOW', 'MACD_SIGNAL_LOW', 'MACD_MID', 'MACD_SIGNAL_MID', 'MACD_HIGH', 'MACD_SIGNAL_HIGH', 'ADX_3', 'ADX_7', 'ADX_14', 'ADX_21', 'STOCH_3', 'STOCH_7', 'STOCH_14', 'STOCH_21', 'STOCHRSI_3', 'STOCHRSI_7', 'STOCHRSI_14', 'STOCHRSI_21', 'BBWIDTH_5', 'BBWIDTH_10', 'BBWIDTH_20', 'PERCENT_B_5', 'PERCENT_B_10', 'PERCENT_B_20', 'TARGET']\n",
      "start date: 2020-01-05 16:00:00, end date: 2021-04-13 13:00:00\n",
      "TARGET Percentages: {0: 0.48121179431859046, 1: 0.5187882056814096}\n",
      "--------------------- X_test ---------------------\n",
      "Features: ['ATR_3', 'ATR_7', 'ATR_14', 'ATR_32', 'BB_UPPER_5', 'BB_LOWER_5', 'BB_MIDDLE_5', 'BB_UPPER_10', 'BB_LOWER_10', 'BB_MIDDLE_10', 'BB_UPPER_20', 'BB_LOWER_20', 'BB_MIDDLE_20', 'BLOCK_SIZE', 'HASH_RATE', 'DIFFICULTY', 'TRANSACTION_RATE', 'ACTIVE_ADDRESSES', 'NEW_ADDRESSES', 'ROC_3', 'ROC_6', 'ROC_12', 'ROC_24', 'RSI_3', 'RSI_7', 'RSI_14', 'RSI_32', 'WILLIAMS_3', 'WILLIAMS_7', 'WILLIAMS_14', 'WILLIAMS_32', 'MI_3', 'MI_9', 'MI_18', 'CCI_5', 'CCI_10', 'CCI_20', 'BASP_BUY_10', 'BASP_SELL_10', 'BASP_BUY_20', 'BASP_SELL_20', 'BASP_BUY_40', 'BASP_SELL_40', 'ER_5', 'ER_10', 'ER_15', 'ER_20', 'MACD_LOW', 'MACD_SIGNAL_LOW', 'MACD_MID', 'MACD_SIGNAL_MID', 'MACD_HIGH', 'MACD_SIGNAL_HIGH', 'ADX_3', 'ADX_7', 'ADX_14', 'ADX_21', 'STOCH_3', 'STOCH_7', 'STOCH_14', 'STOCH_21', 'STOCHRSI_3', 'STOCHRSI_7', 'STOCHRSI_14', 'STOCHRSI_21', 'BBWIDTH_5', 'BBWIDTH_10', 'BBWIDTH_20', 'PERCENT_B_5', 'PERCENT_B_10', 'PERCENT_B_20', 'TARGET']\n",
      "start date: 2021-04-14 22:00:00, end date: 2022-07-22 19:00:00\n",
      "TARGET Percentages: {0: 0.49554816080582786, 1: 0.5044518391941721}\n"
     ]
    }
   ],
   "source": [
    "from controllers.features import get_scaler\n",
    "from sklearn.preprocessing import MinMaxScaler\n",
    "\n",
    "eth_dataset = Data(\n",
    "            lookback=10,\n",
    "            train_size=0.6,\n",
    "            validation_size=0.2,\n",
    "            test_size=0.2,\n",
    "            scaler=MinMaxScaler(),\n",
    "            feature_set=f\"ETH_Data\",\n",
    "            time_to_predict=1,\n",
    "            features=None,\n",
    "        )"
   ]
  },
  {
   "cell_type": "code",
   "execution_count": 9,
   "metadata": {},
   "outputs": [
    {
     "name": "stdout",
     "output_type": "stream",
     "text": [
      "1039/1039 [==============================] - 3s 2ms/step\n",
      "348/348 [==============================] - 1s 2ms/step\n",
      "348/348 [==============================] - 1s 2ms/step\n"
     ]
    }
   ],
   "source": [
    "autoencoder_model_class = load(\"/home/williamharris/Dev/CQF_final_project/models/testing/ETH_autoencoder_model/model.pickle\")\n",
    "encoder_model = autoencoder_model_class.model.get_layer(\"encoder\")\n",
    "\n",
    "eth_encoded_dataset = Dataset(X_train=encoder_model.predict(eth_dataset.X_train), y_train=eth_dataset.y_train, \n",
    "        X_validation=encoder_model.predict(eth_dataset.X_validation), y_validation=eth_dataset.y_validation, \n",
    "        X_test=encoder_model.predict(eth_dataset.X_test), y_test=eth_dataset.y_test, feature_names=eth_dataset.feature_names)"
   ]
  },
  {
   "cell_type": "code",
   "execution_count": 12,
   "metadata": {},
   "outputs": [
    {
     "name": "stdout",
     "output_type": "stream",
     "text": [
      "Epoch 1/100\n",
      "64/64 [==============================] - 9s 41ms/step - loss: 0.6931 - auc_2: 0.5087 - binary_accuracy: 0.5098 - val_loss: 0.6949 - val_auc_2: 0.5025 - val_binary_accuracy: 0.4812\n",
      "Epoch 2/100\n",
      "64/64 [==============================] - 1s 21ms/step - loss: 0.6931 - auc_2: 0.5079 - binary_accuracy: 0.5050 - val_loss: 0.6946 - val_auc_2: 0.5019 - val_binary_accuracy: 0.4812\n",
      "Epoch 3/100\n",
      "64/64 [==============================] - 1s 21ms/step - loss: 0.6930 - auc_2: 0.5112 - binary_accuracy: 0.5100 - val_loss: 0.6951 - val_auc_2: 0.5079 - val_binary_accuracy: 0.4812\n",
      "Epoch 4/100\n",
      "64/64 [==============================] - 1s 19ms/step - loss: 0.6931 - auc_2: 0.5088 - binary_accuracy: 0.5081 - val_loss: 0.6950 - val_auc_2: 0.5010 - val_binary_accuracy: 0.4812\n",
      "Epoch 5/100\n",
      "64/64 [==============================] - 1s 19ms/step - loss: 0.6930 - auc_2: 0.5119 - binary_accuracy: 0.5096 - val_loss: 0.6946 - val_auc_2: 0.5075 - val_binary_accuracy: 0.4812\n",
      "Epoch 6/100\n",
      "64/64 [==============================] - 1s 18ms/step - loss: 0.6930 - auc_2: 0.5109 - binary_accuracy: 0.5067 - val_loss: 0.6947 - val_auc_2: 0.5003 - val_binary_accuracy: 0.4812\n",
      "Epoch 7/100\n",
      "64/64 [==============================] - 1s 17ms/step - loss: 0.6930 - auc_2: 0.5092 - binary_accuracy: 0.5081 - val_loss: 0.6944 - val_auc_2: 0.5068 - val_binary_accuracy: 0.4814\n",
      "Epoch 8/100\n",
      "64/64 [==============================] - 1s 18ms/step - loss: 0.6931 - auc_2: 0.5082 - binary_accuracy: 0.5062 - val_loss: 0.6943 - val_auc_2: 0.5038 - val_binary_accuracy: 0.4813\n",
      "Epoch 9/100\n",
      "64/64 [==============================] - 1s 17ms/step - loss: 0.6931 - auc_2: 0.5079 - binary_accuracy: 0.5082 - val_loss: 0.6945 - val_auc_2: 0.5058 - val_binary_accuracy: 0.4815\n",
      "Epoch 10/100\n",
      "64/64 [==============================] - 1s 17ms/step - loss: 0.6931 - auc_2: 0.5086 - binary_accuracy: 0.5072 - val_loss: 0.6943 - val_auc_2: 0.5026 - val_binary_accuracy: 0.4810\n",
      "Epoch 11/100\n",
      "64/64 [==============================] - 1s 17ms/step - loss: 0.6931 - auc_2: 0.5084 - binary_accuracy: 0.5061 - val_loss: 0.6945 - val_auc_2: 0.5116 - val_binary_accuracy: 0.4818\n",
      "Epoch 12/100\n",
      "64/64 [==============================] - 1s 17ms/step - loss: 0.6930 - auc_2: 0.5079 - binary_accuracy: 0.5078 - val_loss: 0.6942 - val_auc_2: 0.5091 - val_binary_accuracy: 0.4819\n",
      "Epoch 13/100\n",
      "64/64 [==============================] - 1s 18ms/step - loss: 0.6930 - auc_2: 0.5121 - binary_accuracy: 0.5056 - val_loss: 0.6942 - val_auc_2: 0.5080 - val_binary_accuracy: 0.4811\n",
      "Epoch 14/100\n",
      "64/64 [==============================] - 1s 18ms/step - loss: 0.6931 - auc_2: 0.5085 - binary_accuracy: 0.5039 - val_loss: 0.6953 - val_auc_2: 0.5034 - val_binary_accuracy: 0.4818\n",
      "Epoch 15/100\n",
      "64/64 [==============================] - 1s 18ms/step - loss: 0.6930 - auc_2: 0.5108 - binary_accuracy: 0.5075 - val_loss: 0.6942 - val_auc_2: 0.5022 - val_binary_accuracy: 0.4812\n",
      "Epoch 16/100\n",
      "64/64 [==============================] - 1s 18ms/step - loss: 0.6931 - auc_2: 0.5081 - binary_accuracy: 0.5105 - val_loss: 0.6938 - val_auc_2: 0.5094 - val_binary_accuracy: 0.4858\n",
      "Epoch 17/100\n",
      "64/64 [==============================] - 1s 18ms/step - loss: 0.6929 - auc_2: 0.5128 - binary_accuracy: 0.5122 - val_loss: 0.6943 - val_auc_2: 0.5110 - val_binary_accuracy: 0.4827\n",
      "Epoch 18/100\n",
      "64/64 [==============================] - 1s 18ms/step - loss: 0.6930 - auc_2: 0.5115 - binary_accuracy: 0.5124 - val_loss: 0.6942 - val_auc_2: 0.5109 - val_binary_accuracy: 0.4818\n",
      "Epoch 19/100\n",
      "64/64 [==============================] - 1s 20ms/step - loss: 0.6929 - auc_2: 0.5131 - binary_accuracy: 0.5085 - val_loss: 0.6942 - val_auc_2: 0.5153 - val_binary_accuracy: 0.4818\n",
      "Epoch 20/100\n",
      "64/64 [==============================] - 1s 18ms/step - loss: 0.6930 - auc_2: 0.5122 - binary_accuracy: 0.5121 - val_loss: 0.6941 - val_auc_2: 0.5133 - val_binary_accuracy: 0.4830\n",
      "Epoch 21/100\n",
      "64/64 [==============================] - 1s 18ms/step - loss: 0.6930 - auc_2: 0.5118 - binary_accuracy: 0.5082 - val_loss: 0.6936 - val_auc_2: 0.5109 - val_binary_accuracy: 0.4839\n",
      "Epoch 22/100\n",
      "64/64 [==============================] - 1s 18ms/step - loss: 0.6928 - auc_2: 0.5148 - binary_accuracy: 0.5112 - val_loss: 0.6940 - val_auc_2: 0.5107 - val_binary_accuracy: 0.4854\n",
      "Epoch 23/100\n",
      "64/64 [==============================] - 1s 17ms/step - loss: 0.6927 - auc_2: 0.5158 - binary_accuracy: 0.5122 - val_loss: 0.6951 - val_auc_2: 0.5141 - val_binary_accuracy: 0.4836\n",
      "Epoch 24/100\n",
      "64/64 [==============================] - 1s 18ms/step - loss: 0.6927 - auc_2: 0.5193 - binary_accuracy: 0.5143 - val_loss: 0.6943 - val_auc_2: 0.5222 - val_binary_accuracy: 0.4883\n",
      "Epoch 25/100\n",
      "64/64 [==============================] - 1s 18ms/step - loss: 0.6926 - auc_2: 0.5200 - binary_accuracy: 0.5145 - val_loss: 0.6946 - val_auc_2: 0.5258 - val_binary_accuracy: 0.4859\n",
      "Epoch 26/100\n",
      "64/64 [==============================] - 1s 18ms/step - loss: 0.6928 - auc_2: 0.5131 - binary_accuracy: 0.5102 - val_loss: 0.6938 - val_auc_2: 0.5258 - val_binary_accuracy: 0.4871\n",
      "Epoch 27/100\n",
      "64/64 [==============================] - 1s 19ms/step - loss: 0.6924 - auc_2: 0.5194 - binary_accuracy: 0.5123 - val_loss: 0.6944 - val_auc_2: 0.5284 - val_binary_accuracy: 0.4928\n",
      "Epoch 28/100\n",
      "64/64 [==============================] - 1s 18ms/step - loss: 0.6925 - auc_2: 0.5202 - binary_accuracy: 0.5171 - val_loss: 0.6937 - val_auc_2: 0.5354 - val_binary_accuracy: 0.4946\n",
      "Epoch 29/100\n",
      "64/64 [==============================] - 1s 18ms/step - loss: 0.6921 - auc_2: 0.5250 - binary_accuracy: 0.5180 - val_loss: 0.6954 - val_auc_2: 0.5384 - val_binary_accuracy: 0.4853\n",
      "Epoch 30/100\n",
      "64/64 [==============================] - 1s 19ms/step - loss: 0.6916 - auc_2: 0.5300 - binary_accuracy: 0.5197 - val_loss: 0.6935 - val_auc_2: 0.5448 - val_binary_accuracy: 0.5040\n",
      "Epoch 31/100\n",
      "64/64 [==============================] - 1s 18ms/step - loss: 0.6914 - auc_2: 0.5337 - binary_accuracy: 0.5269 - val_loss: 0.6936 - val_auc_2: 0.5452 - val_binary_accuracy: 0.5074\n",
      "Epoch 32/100\n",
      "64/64 [==============================] - 1s 18ms/step - loss: 0.6913 - auc_2: 0.5335 - binary_accuracy: 0.5244 - val_loss: 0.6951 - val_auc_2: 0.5458 - val_binary_accuracy: 0.5011\n",
      "Epoch 33/100\n",
      "64/64 [==============================] - 1s 18ms/step - loss: 0.6911 - auc_2: 0.5349 - binary_accuracy: 0.5244 - val_loss: 0.6927 - val_auc_2: 0.5476 - val_binary_accuracy: 0.5182\n",
      "Epoch 34/100\n",
      "64/64 [==============================] - 1s 18ms/step - loss: 0.6909 - auc_2: 0.5386 - binary_accuracy: 0.5291 - val_loss: 0.6920 - val_auc_2: 0.5477 - val_binary_accuracy: 0.5219\n",
      "Epoch 35/100\n",
      "64/64 [==============================] - 1s 18ms/step - loss: 0.6909 - auc_2: 0.5385 - binary_accuracy: 0.5298 - val_loss: 0.6927 - val_auc_2: 0.5483 - val_binary_accuracy: 0.5168\n",
      "Epoch 36/100\n",
      "64/64 [==============================] - 1s 18ms/step - loss: 0.6906 - auc_2: 0.5408 - binary_accuracy: 0.5301 - val_loss: 0.6918 - val_auc_2: 0.5488 - val_binary_accuracy: 0.5226\n",
      "Epoch 37/100\n",
      "64/64 [==============================] - 1s 18ms/step - loss: 0.6908 - auc_2: 0.5402 - binary_accuracy: 0.5306 - val_loss: 0.6921 - val_auc_2: 0.5482 - val_binary_accuracy: 0.5222\n",
      "Epoch 38/100\n",
      "64/64 [==============================] - 1s 18ms/step - loss: 0.6902 - auc_2: 0.5435 - binary_accuracy: 0.5316 - val_loss: 0.6919 - val_auc_2: 0.5492 - val_binary_accuracy: 0.5213\n",
      "Epoch 39/100\n",
      "64/64 [==============================] - 1s 18ms/step - loss: 0.6901 - auc_2: 0.5456 - binary_accuracy: 0.5334 - val_loss: 0.6913 - val_auc_2: 0.5488 - val_binary_accuracy: 0.5256\n",
      "Epoch 40/100\n",
      "64/64 [==============================] - 1s 18ms/step - loss: 0.6908 - auc_2: 0.5402 - binary_accuracy: 0.5270 - val_loss: 0.6918 - val_auc_2: 0.5490 - val_binary_accuracy: 0.5221\n",
      "Epoch 41/100\n",
      "64/64 [==============================] - 1s 18ms/step - loss: 0.6906 - auc_2: 0.5411 - binary_accuracy: 0.5319 - val_loss: 0.6917 - val_auc_2: 0.5466 - val_binary_accuracy: 0.5218\n",
      "Epoch 42/100\n",
      "64/64 [==============================] - 1s 18ms/step - loss: 0.6900 - auc_2: 0.5457 - binary_accuracy: 0.5325 - val_loss: 0.6915 - val_auc_2: 0.5475 - val_binary_accuracy: 0.5256\n",
      "Epoch 43/100\n",
      "64/64 [==============================] - 1s 19ms/step - loss: 0.6901 - auc_2: 0.5451 - binary_accuracy: 0.5339 - val_loss: 0.6916 - val_auc_2: 0.5475 - val_binary_accuracy: 0.5215\n",
      "Epoch 44/100\n",
      "64/64 [==============================] - 1s 18ms/step - loss: 0.6902 - auc_2: 0.5451 - binary_accuracy: 0.5328 - val_loss: 0.6913 - val_auc_2: 0.5486 - val_binary_accuracy: 0.5252\n",
      "Epoch 45/100\n",
      "64/64 [==============================] - 1s 18ms/step - loss: 0.6897 - auc_2: 0.5472 - binary_accuracy: 0.5334 - val_loss: 0.6917 - val_auc_2: 0.5481 - val_binary_accuracy: 0.5235\n",
      "Epoch 46/100\n",
      "64/64 [==============================] - 1s 17ms/step - loss: 0.6901 - auc_2: 0.5458 - binary_accuracy: 0.5332 - val_loss: 0.6918 - val_auc_2: 0.5494 - val_binary_accuracy: 0.5223\n",
      "Epoch 47/100\n",
      "64/64 [==============================] - 1s 18ms/step - loss: 0.6905 - auc_2: 0.5420 - binary_accuracy: 0.5315 - val_loss: 0.6913 - val_auc_2: 0.5496 - val_binary_accuracy: 0.5237\n",
      "Epoch 48/100\n",
      "64/64 [==============================] - 1s 18ms/step - loss: 0.6896 - auc_2: 0.5477 - binary_accuracy: 0.5325 - val_loss: 0.6915 - val_auc_2: 0.5486 - val_binary_accuracy: 0.5241\n",
      "Epoch 49/100\n",
      "64/64 [==============================] - 1s 18ms/step - loss: 0.6907 - auc_2: 0.5400 - binary_accuracy: 0.5270 - val_loss: 0.6912 - val_auc_2: 0.5487 - val_binary_accuracy: 0.5264\n",
      "Epoch 50/100\n",
      "64/64 [==============================] - 1s 18ms/step - loss: 0.6898 - auc_2: 0.5472 - binary_accuracy: 0.5337 - val_loss: 0.6914 - val_auc_2: 0.5501 - val_binary_accuracy: 0.5250\n",
      "Epoch 51/100\n",
      "64/64 [==============================] - 1s 18ms/step - loss: 0.6903 - auc_2: 0.5442 - binary_accuracy: 0.5310 - val_loss: 0.6911 - val_auc_2: 0.5490 - val_binary_accuracy: 0.5272\n",
      "Epoch 52/100\n",
      "64/64 [==============================] - 1s 18ms/step - loss: 0.6900 - auc_2: 0.5441 - binary_accuracy: 0.5310 - val_loss: 0.6916 - val_auc_2: 0.5492 - val_binary_accuracy: 0.5260\n",
      "Epoch 53/100\n",
      "64/64 [==============================] - 1s 18ms/step - loss: 0.6898 - auc_2: 0.5467 - binary_accuracy: 0.5319 - val_loss: 0.6916 - val_auc_2: 0.5496 - val_binary_accuracy: 0.5257\n",
      "Epoch 54/100\n",
      "64/64 [==============================] - 1s 18ms/step - loss: 0.6900 - auc_2: 0.5466 - binary_accuracy: 0.5358 - val_loss: 0.6915 - val_auc_2: 0.5486 - val_binary_accuracy: 0.5252\n",
      "Epoch 55/100\n",
      "64/64 [==============================] - 1s 18ms/step - loss: 0.6901 - auc_2: 0.5437 - binary_accuracy: 0.5306 - val_loss: 0.6916 - val_auc_2: 0.5507 - val_binary_accuracy: 0.5268\n",
      "Epoch 56/100\n",
      "64/64 [==============================] - 1s 18ms/step - loss: 0.6896 - auc_2: 0.5479 - binary_accuracy: 0.5348 - val_loss: 0.6912 - val_auc_2: 0.5500 - val_binary_accuracy: 0.5263\n",
      "Epoch 57/100\n",
      "64/64 [==============================] - 1s 17ms/step - loss: 0.6895 - auc_2: 0.5481 - binary_accuracy: 0.5350 - val_loss: 0.6915 - val_auc_2: 0.5506 - val_binary_accuracy: 0.5270\n",
      "Epoch 58/100\n",
      "64/64 [==============================] - 1s 18ms/step - loss: 0.6897 - auc_2: 0.5477 - binary_accuracy: 0.5323 - val_loss: 0.6911 - val_auc_2: 0.5497 - val_binary_accuracy: 0.5293\n",
      "Epoch 59/100\n",
      "64/64 [==============================] - 1s 18ms/step - loss: 0.6891 - auc_2: 0.5494 - binary_accuracy: 0.5340 - val_loss: 0.6917 - val_auc_2: 0.5485 - val_binary_accuracy: 0.5237\n",
      "Epoch 60/100\n",
      "64/64 [==============================] - 1s 18ms/step - loss: 0.6894 - auc_2: 0.5499 - binary_accuracy: 0.5358 - val_loss: 0.6916 - val_auc_2: 0.5492 - val_binary_accuracy: 0.5264\n",
      "Epoch 61/100\n",
      "64/64 [==============================] - 1s 18ms/step - loss: 0.6896 - auc_2: 0.5481 - binary_accuracy: 0.5368 - val_loss: 0.6910 - val_auc_2: 0.5503 - val_binary_accuracy: 0.5260\n",
      "Epoch 62/100\n",
      "64/64 [==============================] - 1s 17ms/step - loss: 0.6893 - auc_2: 0.5494 - binary_accuracy: 0.5360 - val_loss: 0.6915 - val_auc_2: 0.5491 - val_binary_accuracy: 0.5237\n",
      "Epoch 63/100\n",
      "64/64 [==============================] - 1s 18ms/step - loss: 0.6893 - auc_2: 0.5488 - binary_accuracy: 0.5346 - val_loss: 0.6915 - val_auc_2: 0.5492 - val_binary_accuracy: 0.5215\n",
      "Epoch 64/100\n",
      "64/64 [==============================] - 1s 18ms/step - loss: 0.6893 - auc_2: 0.5487 - binary_accuracy: 0.5364 - val_loss: 0.6922 - val_auc_2: 0.5491 - val_binary_accuracy: 0.5191\n",
      "Epoch 65/100\n",
      "64/64 [==============================] - 1s 18ms/step - loss: 0.6892 - auc_2: 0.5499 - binary_accuracy: 0.5366 - val_loss: 0.6919 - val_auc_2: 0.5477 - val_binary_accuracy: 0.5236\n",
      "Epoch 66/100\n",
      "64/64 [==============================] - 1s 18ms/step - loss: 0.6892 - auc_2: 0.5503 - binary_accuracy: 0.5362 - val_loss: 0.6915 - val_auc_2: 0.5493 - val_binary_accuracy: 0.5260\n",
      "Epoch 67/100\n",
      "64/64 [==============================] - 1s 18ms/step - loss: 0.6888 - auc_2: 0.5515 - binary_accuracy: 0.5353 - val_loss: 0.6916 - val_auc_2: 0.5513 - val_binary_accuracy: 0.5257\n",
      "Epoch 68/100\n",
      "64/64 [==============================] - 1s 18ms/step - loss: 0.6900 - auc_2: 0.5455 - binary_accuracy: 0.5312 - val_loss: 0.6918 - val_auc_2: 0.5492 - val_binary_accuracy: 0.5221\n",
      "Epoch 69/100\n",
      "64/64 [==============================] - 1s 18ms/step - loss: 0.6896 - auc_2: 0.5478 - binary_accuracy: 0.5336 - val_loss: 0.6915 - val_auc_2: 0.5500 - val_binary_accuracy: 0.5245\n",
      "Epoch 70/100\n",
      "64/64 [==============================] - 1s 18ms/step - loss: 0.6895 - auc_2: 0.5478 - binary_accuracy: 0.5330 - val_loss: 0.6915 - val_auc_2: 0.5509 - val_binary_accuracy: 0.5203\n",
      "Epoch 71/100\n",
      "64/64 [==============================] - 1s 18ms/step - loss: 0.6894 - auc_2: 0.5491 - binary_accuracy: 0.5360 - val_loss: 0.6916 - val_auc_2: 0.5514 - val_binary_accuracy: 0.5248\n",
      "Epoch 72/100\n",
      "64/64 [==============================] - 1s 18ms/step - loss: 0.6894 - auc_2: 0.5491 - binary_accuracy: 0.5357 - val_loss: 0.6917 - val_auc_2: 0.5506 - val_binary_accuracy: 0.5220\n",
      "Epoch 73/100\n",
      "64/64 [==============================] - 1s 18ms/step - loss: 0.6895 - auc_2: 0.5479 - binary_accuracy: 0.5347 - val_loss: 0.6912 - val_auc_2: 0.5516 - val_binary_accuracy: 0.5246\n",
      "Epoch 74/100\n",
      "64/64 [==============================] - 1s 18ms/step - loss: 0.6891 - auc_2: 0.5522 - binary_accuracy: 0.5371 - val_loss: 0.6910 - val_auc_2: 0.5535 - val_binary_accuracy: 0.5272\n",
      "Epoch 75/100\n",
      "64/64 [==============================] - 1s 18ms/step - loss: 0.6891 - auc_2: 0.5504 - binary_accuracy: 0.5359 - val_loss: 0.6913 - val_auc_2: 0.5524 - val_binary_accuracy: 0.5272\n",
      "Epoch 76/100\n",
      "64/64 [==============================] - 1s 18ms/step - loss: 0.6892 - auc_2: 0.5499 - binary_accuracy: 0.5364 - val_loss: 0.6912 - val_auc_2: 0.5530 - val_binary_accuracy: 0.5262\n",
      "Epoch 77/100\n",
      "64/64 [==============================] - 1s 18ms/step - loss: 0.6895 - auc_2: 0.5481 - binary_accuracy: 0.5362 - val_loss: 0.6908 - val_auc_2: 0.5539 - val_binary_accuracy: 0.5255\n",
      "Epoch 78/100\n",
      "64/64 [==============================] - 1s 18ms/step - loss: 0.6892 - auc_2: 0.5483 - binary_accuracy: 0.5341 - val_loss: 0.6912 - val_auc_2: 0.5524 - val_binary_accuracy: 0.5289\n",
      "Epoch 79/100\n",
      "64/64 [==============================] - 1s 18ms/step - loss: 0.6891 - auc_2: 0.5510 - binary_accuracy: 0.5369 - val_loss: 0.6907 - val_auc_2: 0.5527 - val_binary_accuracy: 0.5290\n",
      "Epoch 80/100\n",
      "64/64 [==============================] - 1s 18ms/step - loss: 0.6890 - auc_2: 0.5517 - binary_accuracy: 0.5379 - val_loss: 0.6917 - val_auc_2: 0.5517 - val_binary_accuracy: 0.5263\n",
      "Epoch 81/100\n",
      "64/64 [==============================] - 1s 19ms/step - loss: 0.6890 - auc_2: 0.5506 - binary_accuracy: 0.5349 - val_loss: 0.6916 - val_auc_2: 0.5494 - val_binary_accuracy: 0.5226\n",
      "Epoch 82/100\n",
      "64/64 [==============================] - 1s 18ms/step - loss: 0.6896 - auc_2: 0.5476 - binary_accuracy: 0.5330 - val_loss: 0.6911 - val_auc_2: 0.5524 - val_binary_accuracy: 0.5254\n",
      "Epoch 83/100\n",
      "64/64 [==============================] - 1s 18ms/step - loss: 0.6891 - auc_2: 0.5521 - binary_accuracy: 0.5385 - val_loss: 0.6919 - val_auc_2: 0.5494 - val_binary_accuracy: 0.5249\n",
      "Epoch 84/100\n",
      "64/64 [==============================] - 1s 18ms/step - loss: 0.6893 - auc_2: 0.5496 - binary_accuracy: 0.5361 - val_loss: 0.6913 - val_auc_2: 0.5531 - val_binary_accuracy: 0.5254\n",
      "Epoch 85/100\n",
      "64/64 [==============================] - 1s 18ms/step - loss: 0.6891 - auc_2: 0.5494 - binary_accuracy: 0.5335 - val_loss: 0.6916 - val_auc_2: 0.5510 - val_binary_accuracy: 0.5242\n",
      "Epoch 86/100\n",
      "64/64 [==============================] - 1s 18ms/step - loss: 0.6886 - auc_2: 0.5533 - binary_accuracy: 0.5387 - val_loss: 0.6912 - val_auc_2: 0.5527 - val_binary_accuracy: 0.5274\n",
      "Epoch 87/100\n",
      "64/64 [==============================] - 1s 18ms/step - loss: 0.6887 - auc_2: 0.5522 - binary_accuracy: 0.5385 - val_loss: 0.6909 - val_auc_2: 0.5524 - val_binary_accuracy: 0.5287\n",
      "Epoch 88/100\n",
      "64/64 [==============================] - 1s 18ms/step - loss: 0.6886 - auc_2: 0.5518 - binary_accuracy: 0.5366 - val_loss: 0.6915 - val_auc_2: 0.5518 - val_binary_accuracy: 0.5242\n",
      "Epoch 89/100\n",
      "64/64 [==============================] - 1s 18ms/step - loss: 0.6886 - auc_2: 0.5542 - binary_accuracy: 0.5388 - val_loss: 0.6912 - val_auc_2: 0.5503 - val_binary_accuracy: 0.5267\n",
      "Epoch 90/100\n",
      "64/64 [==============================] - 1s 18ms/step - loss: 0.6883 - auc_2: 0.5558 - binary_accuracy: 0.5400 - val_loss: 0.6915 - val_auc_2: 0.5507 - val_binary_accuracy: 0.5259\n",
      "Epoch 91/100\n",
      "64/64 [==============================] - 1s 18ms/step - loss: 0.6886 - auc_2: 0.5539 - binary_accuracy: 0.5374 - val_loss: 0.6915 - val_auc_2: 0.5509 - val_binary_accuracy: 0.5251\n",
      "Epoch 92/100\n",
      "64/64 [==============================] - 1s 18ms/step - loss: 0.6888 - auc_2: 0.5515 - binary_accuracy: 0.5364 - val_loss: 0.6914 - val_auc_2: 0.5511 - val_binary_accuracy: 0.5261\n",
      "Epoch 93/100\n",
      "64/64 [==============================] - 1s 18ms/step - loss: 0.6880 - auc_2: 0.5563 - binary_accuracy: 0.5406 - val_loss: 0.6913 - val_auc_2: 0.5497 - val_binary_accuracy: 0.5262\n",
      "Epoch 94/100\n",
      "64/64 [==============================] - 1s 18ms/step - loss: 0.6878 - auc_2: 0.5574 - binary_accuracy: 0.5394 - val_loss: 0.6917 - val_auc_2: 0.5533 - val_binary_accuracy: 0.5255\n",
      "Epoch 95/100\n",
      "64/64 [==============================] - 1s 18ms/step - loss: 0.6885 - auc_2: 0.5535 - binary_accuracy: 0.5386 - val_loss: 0.6918 - val_auc_2: 0.5507 - val_binary_accuracy: 0.5227\n",
      "Epoch 96/100\n",
      "64/64 [==============================] - 1s 18ms/step - loss: 0.6889 - auc_2: 0.5521 - binary_accuracy: 0.5365 - val_loss: 0.6921 - val_auc_2: 0.5498 - val_binary_accuracy: 0.5227\n",
      "Epoch 97/100\n",
      "64/64 [==============================] - 1s 18ms/step - loss: 0.6889 - auc_2: 0.5519 - binary_accuracy: 0.5366 - val_loss: 0.6917 - val_auc_2: 0.5505 - val_binary_accuracy: 0.5218\n",
      "Epoch 98/100\n",
      "64/64 [==============================] - 1s 18ms/step - loss: 0.6883 - auc_2: 0.5546 - binary_accuracy: 0.5389 - val_loss: 0.6917 - val_auc_2: 0.5501 - val_binary_accuracy: 0.5244\n",
      "Epoch 99/100\n",
      "64/64 [==============================] - 1s 18ms/step - loss: 0.6886 - auc_2: 0.5515 - binary_accuracy: 0.5361 - val_loss: 0.6909 - val_auc_2: 0.5510 - val_binary_accuracy: 0.5240\n",
      "Epoch 100/100\n",
      "64/64 [==============================] - 1s 18ms/step - loss: 0.6880 - auc_2: 0.5563 - binary_accuracy: 0.5384 - val_loss: 0.6923 - val_auc_2: 0.5467 - val_binary_accuracy: 0.5200\n",
      "348/348 [==============================] - 3s 4ms/step\n",
      "348/348 [==============================] - 2s 4ms/step\n"
     ]
    },
    {
     "data": {
      "text/plain": [
       "{'log_val': 0.6926414946722185,\n",
       " 'accuracy_val': 0.5275654285457325,\n",
       " 'f_1': 0.4464116345241858,\n",
       " 'recall': 0.3776074166518096,\n",
       " 'precision': 0.5458762886597938,\n",
       " 'auc': 0.5289126012478649}"
      ]
     },
     "execution_count": 12,
     "metadata": {},
     "output_type": "execute_result"
    },
    {
     "data": {
      "image/png": "[encoded data removed]",
      "text/plain": [
       "<Figure size 432x288 with 2 Axes>"
      ]
     },
     "metadata": {
      "needs_background": "light"
     },
     "output_type": "display_data"
    },
    {
     "data": {
      "image/png": "[encoded data removed]",
      "text/plain": [
       "<Figure size 432x288 with 2 Axes>"
      ]
     },
     "metadata": {
      "needs_background": "light"
     },
     "output_type": "display_data"
    }
   ],
   "source": [
    "class Model(BaseModelFromScratch):\n",
    "    def create_model(self):\n",
    "        self.model = tf.keras.models.Sequential()\n",
    "        self.model.add(\n",
    "            tf.keras.layers.LSTM(\n",
    "                128,\n",
    "                dropout=0.3, \n",
    "                return_sequences=True,\n",
    "                input_shape=(self.dataset.X_train.shape[1:]),\n",
    "            )\n",
    "        )\n",
    "        self.model.add(tf.keras.layers.LSTM(128, dropout=0.3, return_sequences=True))\n",
    "        self.model.add(tf.keras.layers.LSTM(64, dropout=0.3))\n",
    "        self.model.add(tf.keras.layers.Dense(32, activation=\"relu\"))\n",
    "        self.model.add(tf.keras.layers.Dropout(0.1))\n",
    "        self.model.add(tf.keras.layers.Dense(1, activation=\"sigmoid\"))\n",
    "\n",
    "    def train_model(self):\n",
    "        opt = tf.keras.optimizers.Nadam(learning_rate=0.0005)\n",
    "        time = datetime.datetime.now().strftime(\"%Y%m%d-%H%M%S\")\n",
    "        tensorboard = tf.keras.callbacks.TensorBoard(f\"{self.directory}/{self.project_name}/tb_logs/{time}\")\n",
    "        early_stop = tf.keras.callbacks.EarlyStopping(monitor=\"val_loss\", patience=25, restore_best_weights=True)\n",
    "        self.model.compile(\n",
    "            loss=\"binary_crossentropy\",\n",
    "            optimizer=opt,\n",
    "            metrics=[tf.keras.metrics.AUC(), tf.keras.metrics.BinaryAccuracy()],\n",
    "        )\n",
    "        class_weights = class_weight.compute_class_weight(class_weight='balanced', classes=np.unique(self.dataset.y_train.tolist()), y=[i for x in self.dataset.y_train for i in x])\n",
    "        class_weights = dict(enumerate(class_weights))\n",
    "\n",
    "        self.model.fit(\n",
    "            self.dataset.X_train,\n",
    "            self.dataset.y_train,\n",
    "            validation_data=(self.dataset.X_validation, self.dataset.y_validation),\n",
    "            epochs=100,\n",
    "            batch_size=526,\n",
    "            class_weight=class_weights,\n",
    "            callbacks=[early_stop, tensorboard],\n",
    "            shuffle=False,\n",
    "        )\n",
    "\n",
    "m = Model(model_name=\"eth_autoencoder\", directory='models', project_name='testing', dataset=eth_encoded_dataset)\n",
    "m.train()\n",
    "m.run_statistics(DatasetEnum.Validation)\n",
    "m.run_statistics(DatasetEnum.Test)"
   ]
  },
  {
   "cell_type": "code",
   "execution_count": 13,
   "metadata": {},
   "outputs": [
    {
     "name": "stderr",
     "output_type": "stream",
     "text": [
      "WARNING:absl:Found untraced functions such as lstm_cell_12_layer_call_fn, lstm_cell_12_layer_call_and_return_conditional_losses, lstm_cell_13_layer_call_fn, lstm_cell_13_layer_call_and_return_conditional_losses, lstm_cell_14_layer_call_fn while saving (showing 5 of 6). These functions will not be directly callable after loading.\n"
     ]
    },
    {
     "name": "stdout",
     "output_type": "stream",
     "text": [
      "INFO:tensorflow:Assets written to: ram://3838755b-75b3-4571-bd47-e78290bbf33d/assets\n"
     ]
    },
    {
     "name": "stderr",
     "output_type": "stream",
     "text": [
      "INFO:tensorflow:Assets written to: ram://3838755b-75b3-4571-bd47-e78290bbf33d/assets\n"
     ]
    }
   ],
   "source": [
    "m.save_model()"
   ]
  },
  {
   "cell_type": "code",
   "execution_count": null,
   "metadata": {},
   "outputs": [],
   "source": []
  }
 ],
 "metadata": {
  "interpreter": {
   "hash": "638a2a7cd1845dd792b7d53cabe158d221d070bf73a30c193ab0a1a33523614c"
  },
  "kernelspec": {
   "display_name": "Python 3.9.12 ('tf')",
   "language": "python",
   "name": "python3"
  },
  "language_info": {
   "codemirror_mode": {
    "name": "ipython",
    "version": 3
   },
   "file_extension": ".py",
   "mimetype": "text/x-python",
   "name": "python",
   "nbconvert_exporter": "python",
   "pygments_lexer": "ipython3",
   "version": "3.9.12"
  },
  "orig_nbformat": 4
 },
 "nbformat": 4,
 "nbformat_minor": 2
}
